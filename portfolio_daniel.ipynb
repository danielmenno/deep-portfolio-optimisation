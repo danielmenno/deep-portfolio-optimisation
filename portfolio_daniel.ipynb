{
 "cells": [
  {
   "cell_type": "code",
   "execution_count": 2,
   "metadata": {},
   "outputs": [
    {
     "name": "stderr",
     "output_type": "stream",
     "text": [
      "Using TensorFlow backend.\n"
     ]
    }
   ],
   "source": [
    "import numpy as np\n",
    "import tensorflow as tf\n",
    "\n",
    "from keras.models import Sequential\n",
    "from keras.layers import Input, Dense, Conv2D, Concatenate, Dropout, Subtract, \\\n",
    "                        Flatten, MaxPooling2D, Multiply, Lambda, Add, Dot\n",
    "from keras.backend import constant\n",
    "from keras import optimizers\n",
    "\n",
    "from keras.engine.topology import Layer\n",
    "from keras.models import Model\n",
    "from keras.layers import Input\n",
    "from keras import initializers\n",
    "from keras.constraints import max_norm\n",
    "import keras.backend as K\n",
    "\n",
    "import matplotlib.pyplot as plt\n",
    "from scipy.stats import random_correlation\n",
    "from sklearn.datasets import make_sparse_spd_matrix"
   ]
  },
  {
   "cell_type": "code",
   "execution_count": 27,
   "metadata": {},
   "outputs": [],
   "source": [
    "## Generalisation to multiple stocks -- SET D= # of stocks\n",
    "N=30 # time disrectization\n",
    "D = 3#number of stocks\n",
    "S0 = np.random.normal(1,0.1,D).reshape(1,D) # initial value of the asset(s)\n",
    "X0=1  # initial wealth\n",
    "T=1 # maturity\n",
    "sigma=0.2 # volatility in Black Scholes\n",
    "sigma = np.abs(np.random.normal(0.2,0.1,D).reshape(D,))\n",
    "mu=np.random.normal(0.1,0.1,D).reshape(1,D)\n",
    "r=0.0\n",
    "gamma=0.0\n",
    "R=10**5 # number of Trajectories\n",
    "eigenvals = []\n",
    "for _ in range(D):\n",
    "    eigenvals.append(np.random.uniform(0,D))\n",
    "eigenvals = D/sum(eigenvals)*np.array(eigenvals)\n",
    "rho = random_correlation.rvs(eigenvals)\n",
    "# logS= np.zeros((N,R))\n",
    "# logS[0,]=np.log(S0)*np.ones((1,R))\n",
    "\n",
    "# for i in range(R):\n",
    "#     for j in range(N-1):\n",
    "#         increment = np.random.normal(mu*T/N-(sigma)**2*T/(2*N),sigma*np.sqrt(T)/np.sqrt(N))\n",
    "#         logS[j+1,i] =logS[j,i]+increment\n",
    "\n",
    "# S=np.exp(logS)"
   ]
  },
  {
   "cell_type": "code",
   "execution_count": 29,
   "metadata": {},
   "outputs": [
    {
     "data": {
      "text/plain": [
       "array([[ 1.        ,  0.43104348, -0.93662773],\n",
       "       [ 0.43104348,  1.        , -0.6265213 ],\n",
       "       [-0.93662773, -0.6265213 ,  1.        ]])"
      ]
     },
     "execution_count": 29,
     "metadata": {},
     "output_type": "execute_result"
    }
   ],
   "source": [
    "rho"
   ]
  },
  {
   "cell_type": "code",
   "execution_count": 8,
   "metadata": {},
   "outputs": [],
   "source": [
    "#Definition of neural networks for trading strategies\n",
    "\n",
    "m = D # dimension of price\n",
    "d = 3 # number of layers in strategy\n",
    "n = 32  # nodes in the first but last layers\n",
    "\n",
    "# architecture is the same for all networks\n",
    "layers = []\n",
    "for j in range(N):\n",
    "    for i in range(d):\n",
    "        if i < d-1:\n",
    "            nodes = n\n",
    "            layer = Dense(nodes, activation='tanh',trainable=True,\n",
    "                      kernel_initializer=initializers.RandomNormal(0,0.5),#kernel_initializer='random_normal',\n",
    "                      bias_initializer=initializers.RandomNormal(0,0.5),\n",
    "                      name=str(i)+str(j))\n",
    "        else:\n",
    "            nodes = m\n",
    "            layer = Dense(nodes, activation='linear', trainable=True,\n",
    "                          kernel_initializer=initializers.RandomNormal(0,0.5),#kernel_initializer='random_normal',\n",
    "                          bias_initializer=initializers.RandomNormal(0,0.5),\n",
    "                          name=str(i)+str(j))\n",
    "        layers = layers + [layer]"
   ]
  },
  {
   "cell_type": "code",
   "execution_count": null,
   "metadata": {},
   "outputs": [],
   "source": [
    "# Implementing the outcoming of trading via neural networks\n",
    "# Inputs is the training set below, containing the price S0, \n",
    "# again we record the trading strategies on separate input variables 'tradeeval' to read them out easily later\n",
    "price = Input(shape=(m,))\n",
    "trade = Input(shape=(m,))\n",
    "tradeeval = Input(shape=(m,))\n",
    "wealth = Input(shape=(1,))\n",
    "\n",
    "inputs = [price]+[trade]+[tradeeval]+[wealth]\n",
    "outputhelper=[]\n",
    "N=1\n",
    "for j in range(N):\n",
    "    strategy = price\n",
    "    strategyeval=tradeeval\n",
    "    for k in range(d):\n",
    "        strategy= layers[k+(j)*d](strategy) # strategy at j is the alpha at j \n",
    "        strategyeval=layers[k+(j)*d](strategyeval)\n",
    "    incr = Input(shape=(m,))\n",
    "    logprice= Lambda(lambda x : K.log(x))(price)\n",
    "    logprice = Add()([logprice, incr])\n",
    "    pricenew=Lambda(lambda x : K.exp(x))(logprice)\n",
    "    price=pricenew\n",
    "    logwealth= Lambda(lambda x : K.log(x))(wealth)  \n",
    "    logwealth= Lambda(lambda x : x+r*T/N)(logwealth)\n",
    "    helper1 = Multiply()([strategy, incr])\n",
    "    helper1 = Lambda(lambda x : K.sum(x,axis=1))(helper1)\n",
    "    logwealth = Add()([logwealth, helper1])\n",
    "    helper2 = Multiply()([strategy, strategy])   \n",
    "    #helper2 = Lambda(lambda x : K.sum(x,axis=1))(helper2)\n",
    "    helper2 = Lambda(lambda x: x*sigma**2/2*T/N)(helper2)\n",
    "    #helper3 = Lambda(lambda x : x*sigma**2/2*T/N)(helper2)\n",
    "    helper3 = Lambda(lambda x: K.sum(x,axis=1))(helper2)\n",
    "    logwealth = Subtract()([logwealth, helper3])\n",
    "    helper4 = Lambda(lambda x : x*r*T/N)(strategy)\n",
    "    helper4 = Lambda(lambda x: K.sum(x,axis=1))(helper4)\n",
    "    logwealth = Subtract()([logwealth, helper4])\n",
    "    #Add correlation terms\n",
    "    \n",
    "    for i in range(m):\n",
    "        strat_i = Lambda(lambda x: K.slice(x,[0,i],[0,1]))(strategy) + 0*strategy\n",
    "        strat_i = Lambda(lambda x: K.sum(x,axis=1))(strat_i)\n",
    "        #print(K.int_shape(strat_i))\n",
    "        for j in range(i+1,m):\n",
    "            strat_j = Lambda(lambda x: K.slice(x,[0,j],[0,1]))(strategy) + 0*strategy\n",
    "            strat_j = Lambda(lambda x: K.sum(x,axis=1))(strat_j)\n",
    "            #print(strat_j)\n",
    "            helper5 = Lambda(lambda x: x*sigma[i]*sigma[j]*rho[i][j]*T/N)(strat_i)        \n",
    "            helper5 = Multiply() ([helper5,strat_j])\n",
    "            print(K.int_shape(helper5))\n",
    "            print(K.int_shape(logwealth))\n",
    "            logwealth = Subtract()([logwealth, helper5])\n",
    "            \n",
    "    wealthnew=Lambda(lambda x : K.exp(x))(logwealth)# creating the wealth at time j+1\n",
    "    inputs = inputs + [incr]\n",
    "    outputhelper = outputhelper + [strategyeval] # here we collect the strategies\n",
    "    wealth=wealthnew\n",
    "outputs = wealth\n",
    "#randomendowment = Lambda(lambda x : -0.0*(K.abs(x-1.0)+x-1.0))(price) \n",
    "#outputs = Add()([wealth,randomendowment])\n",
    "outputs = [outputs] + outputhelper \n",
    "#print(K.int_shape(outputhelper[0]))\n",
    "outputs = Concatenate()(outputs)\n",
    "\n",
    "model_MertonD = Model(inputs=inputs, outputs=outputs)"
   ]
  },
  {
   "cell_type": "code",
   "execution_count": 30,
   "metadata": {},
   "outputs": [],
   "source": [
    "Ktrain = 10**5\n",
    "initialprice = S0\n",
    "initialwealth = X0\n",
    "\n",
    "#Generate correlated price processes\n",
    "\n",
    "from scipy.linalg import cholesky\n",
    "U= cholesky(rho)\n",
    "uncorr = [np.random.normal(mu*T/N,sigma*np.sqrt(T)/np.sqrt(N),(Ktrain,m)) for i in range(N)]\n",
    "corr = []\n",
    "for unc in uncorr:\n",
    "    corr.append(unc@U)\n",
    "\n",
    "# xtrain consists of the price S0, \n",
    "#the initial hedging being 0, and dummy variables hedgeeval where the strategies are evaluated, \n",
    "#the initial wealth and the increments of the log price process     \n",
    "\n",
    "xtrain = ([np.ones((Ktrain,1))@initialprice] +\n",
    "          [np.zeros((Ktrain,m))]+\n",
    "          [1*np.ones((Ktrain,m))] +\n",
    "          [initialwealth*np.ones((Ktrain,1))] + corr)\n",
    "          #[np.random.normal(mu*T/N,sigma*np.sqrt(T)/np.sqrt(N),(Ktrain,m)) for i in range(N)])\n",
    "\n",
    "ytrain=np.zeros((Ktrain,1+N))"
   ]
  },
  {
   "cell_type": "code",
   "execution_count": 31,
   "metadata": {},
   "outputs": [
    {
     "data": {
      "image/png": "[encoded data removed]",
      "text/plain": [
       "<Figure size 432x288 with 1 Axes>"
      ]
     },
     "metadata": {
      "needs_background": "light"
     },
     "output_type": "display_data"
    }
   ],
   "source": [
    "s1 = [1]\n",
    "s2 = [1]\n",
    "s3 =[1]\n",
    "for i in range(N):\n",
    "    s1.append(s1[i]+corr[i][0,0])\n",
    "    s2.append(s2[i]+corr[i][0,1])\n",
    "    s3.append(s3[i]+corr[i][0,2])\n",
    "plt.plot(range(N+1),s1,s3)\n",
    "#plt.plot(range(N+1),s3)\n",
    "plt.show()"
   ]
  },
  {
   "cell_type": "code",
   "execution_count": 29,
   "metadata": {},
   "outputs": [],
   "source": [
    "def custom_loss(y_true,y_pred):\n",
    "    z = - K.log(y_pred[:,0])#-((y_pred[:,0]**gamma-1)/gamma\n",
    "    z=K.mean(z)\n",
    "    return z\n",
    "#def custom_loss(y_true,y_pred):\n",
    "#    z = K.exp(- y_pred[:,0]*ra)#\n",
    "#    z=K.mean(z)\n",
    "#    return z"
   ]
  },
  {
   "cell_type": "code",
   "execution_count": 30,
   "metadata": {},
   "outputs": [],
   "source": [
    "from keras import optimizers\n",
    "\n",
    "adam=optimizers.Adam(lr=0.01)\n",
    "\n",
    "model_MertonD.compile(optimizer='adam',loss=custom_loss)"
   ]
  },
  {
   "cell_type": "code",
   "execution_count": 31,
   "metadata": {},
   "outputs": [
    {
     "name": "stdout",
     "output_type": "stream",
     "text": [
      "Epoch 1/10\n",
      "100000/100000 [==============================] - 31s 314us/step - loss: -0.5644\n",
      "Epoch 2/10\n",
      "100000/100000 [==============================] - 23s 227us/step - loss: -0.5996\n",
      "Epoch 3/10\n",
      "100000/100000 [==============================] - 20s 200us/step - loss: -0.6017\n",
      "Epoch 4/10\n",
      "100000/100000 [==============================] - 25s 246us/step - loss: -0.6031\n",
      "Epoch 5/10\n",
      "100000/100000 [==============================] - 21s 214us/step - loss: -0.6036\n",
      "Epoch 6/10\n",
      "100000/100000 [==============================] - 19s 190us/step - loss: -0.6047\n",
      "Epoch 7/10\n",
      "100000/100000 [==============================] - 18s 185us/step - loss: -0.6047\n",
      "Epoch 8/10\n",
      "100000/100000 [==============================] - 20s 204us/step - loss: -0.6051\n",
      "Epoch 9/10\n",
      "100000/100000 [==============================] - 18s 182us/step - loss: -0.6053\n",
      "Epoch 10/10\n",
      "100000/100000 [==============================] - 20s 202us/step - loss: -0.6053\n"
     ]
    }
   ],
   "source": [
    "import matplotlib.pyplot as plt\n",
    "\n",
    "for i in range(1):\n",
    "    model_MertonD.fit(x=xtrain,y=ytrain, epochs=10,verbose=True,batch_size=100)"
   ]
  },
  {
   "cell_type": "code",
   "execution_count": 32,
   "metadata": {},
   "outputs": [
    {
     "name": "stdout",
     "output_type": "stream",
     "text": [
      "-0.60623276\n"
     ]
    }
   ],
   "source": [
    "y_pred = model_MertonD.predict(xtrain)\n",
    "print(np.mean(-np.log(y_pred[:,0])))"
   ]
  },
  {
   "cell_type": "code",
   "execution_count": 33,
   "metadata": {
    "scrolled": true
   },
   "outputs": [
    {
     "data": {
      "image/png": "[encoded data removed]",
      "text/plain": [
       "<Figure size 432x288 with 1 Axes>"
      ]
     },
     "metadata": {
      "needs_background": "light"
     },
     "output_type": "display_data"
    },
    {
     "name": "stdout",
     "output_type": "stream",
     "text": [
      "Average wealth for portfolio with 3 assets: 3.3693752\n",
      "STD of wealth for portfolio with 3 assets: 5.0513544\n"
     ]
    }
   ],
   "source": [
    "plt.hist(y_pred[:,0],bins = 20)\n",
    "plt.xlabel('Final wealth')\n",
    "plt.ylabel('Frequency')\n",
    "plt.title('Portfolio with ' +str(D) + ' assets')\n",
    "plt.show()\n",
    "print('Average wealth for portfolio with',D,'assets:',np.mean(y_pred[:,0]))\n",
    "print('STD of wealth for portfolio with',D,'assets:',np.std(y_pred[:,0]))"
   ]
  },
  {
   "cell_type": "code",
   "execution_count": 3,
   "metadata": {},
   "outputs": [
    {
     "data": {
      "image/png": "[encoded data removed]",
      "text/plain": [
       "<Figure size 432x288 with 1 Axes>"
      ]
     },
     "metadata": {
      "needs_background": "light"
     },
     "output_type": "display_data"
    }
   ],
   "source": [
    "for i in range(1):\n",
    "    plt.plot(S[:,i])\n",
    "plt.show()"
   ]
  },
  {
   "cell_type": "code",
   "execution_count": 8,
   "metadata": {},
   "outputs": [
    {
     "name": "stdout",
     "output_type": "stream",
     "text": [
      "-0.1214266866308976\n"
     ]
    }
   ],
   "source": [
    "logX= np.zeros((N,R))\n",
    "logX[0,]=np.log(X0)*np.ones((1,R))\n",
    "alpha= (mu-r)/(sigma**2*(1-gamma))\n",
    "for i in range(R):\n",
    "    for j in range(N-1):\n",
    "        increment = np.random.normal(mu*T/N,sigma*np.sqrt(T)/np.sqrt(N))\n",
    "        logX[j+1,i] =logX[j,i]+increment*alpha+r*T/N*(1-alpha)-alpha**2*sigma**2*T/(2*N)\n",
    "\n",
    "X=np.exp(logX)\n",
    "loss=np.mean(-np.log(X[N-1,:]))# np.mean(-(W[N-1,:]**gamma))\n",
    "print(loss)"
   ]
  },
  {
   "cell_type": "code",
   "execution_count": 6,
   "metadata": {},
   "outputs": [
    {
     "data": {
      "image/png": "[encoded data removed]",
      "text/plain": [
       "<Figure size 432x288 with 1 Axes>"
      ]
     },
     "metadata": {
      "needs_background": "light"
     },
     "output_type": "display_data"
    },
    {
     "name": "stdout",
     "output_type": "stream",
     "text": [
      "1.2731155502254579\n",
      "0.6632545192723464\n"
     ]
    }
   ],
   "source": [
    "plt.hist(X[N-1,:])\n",
    "plt.show()\n",
    "print(np.mean(X[N-1,:]))\n",
    "print(np.std(X[N-1,:]))"
   ]
  },
  {
   "cell_type": "code",
   "execution_count": 3,
   "metadata": {},
   "outputs": [],
   "source": [
    "# Trajectories of the Black scholes model\n",
    "# Let it run to initialize the following parameters, the trajectories \n",
    "# are not needed afterwards\n",
    "\n",
    "N=30 # time disrectization\n",
    "S0=1 # initial value of the asset\n",
    "X0=1  # initial wealth\n",
    "T=1 # maturity\n",
    "sigma=0.2 # volatility in Black Scholes\n",
    "mu=0.1\n",
    "r=0.0\n",
    "gamma=0.0\n",
    "R=10**5 # number of Trajectories\n",
    "\n",
    "logS= np.zeros((N,R))\n",
    "logS[0,]=np.log(S0)*np.ones((1,R))\n",
    "\n",
    "for i in range(R):\n",
    "    for j in range(N-1):\n",
    "        increment = np.random.normal(mu*T/N-(sigma)**2*T/(2*N),sigma*np.sqrt(T)/np.sqrt(N))\n",
    "        logS[j+1,i] =logS[j,i]+increment\n",
    "\n",
    "S=np.exp(logS)"
   ]
  },
  {
   "cell_type": "code",
   "execution_count": 9,
   "metadata": {},
   "outputs": [],
   "source": [
    "#Definition of neural networks for trading strategies\n",
    "\n",
    "m = 1 # dimension of price\n",
    "d = 3 # number of layers in strategy\n",
    "n = 32  # nodes in the first but last layers\n",
    "\n",
    "# architecture is the same for all networks\n",
    "layers = []\n",
    "for j in range(N):\n",
    "    for i in range(d):\n",
    "        if i < d-1:\n",
    "            nodes = n\n",
    "            layer = Dense(nodes, activation='tanh',trainable=True,\n",
    "                      kernel_initializer=initializers.RandomNormal(0,0.5),#kernel_initializer='random_normal',\n",
    "                      bias_initializer=initializers.RandomNormal(0,0.5),\n",
    "                      name=str(i)+str(j))\n",
    "        else:\n",
    "            nodes = m\n",
    "            layer = Dense(nodes, activation='linear', trainable=True,\n",
    "                          kernel_initializer=initializers.RandomNormal(0,0.5),#kernel_initializer='random_normal',\n",
    "                          bias_initializer=initializers.RandomNormal(0,0.5),\n",
    "                          name=str(i)+str(j))\n",
    "        layers = layers + [layer]"
   ]
  },
  {
   "cell_type": "code",
   "execution_count": 10,
   "metadata": {},
   "outputs": [],
   "source": [
    "# Implementing the outcoming of trading via neural networks\n",
    "# Inputs is the training set below, containing the price S0, \n",
    "# again we record the trading strategies on separate input variables 'tradeeval' to read them out easily later\n",
    "price = Input(shape=(m,))\n",
    "trade = Input(shape=(m,))\n",
    "tradeeval = Input(shape=(m,))\n",
    "wealth = Input(shape=(1,))\n",
    "\n",
    "inputs = [price]+[trade]+[tradeeval]+[wealth]\n",
    "outputhelper=[]\n",
    "\n",
    "for j in range(N):\n",
    "    strategy = price\n",
    "    strategyeval=tradeeval\n",
    "    for k in range(d):\n",
    "        strategy= layers[k+(j)*d](strategy) # strategy at j is the alpha at j \n",
    "        strategyeval=layers[k+(j)*d](strategyeval)\n",
    "    incr = Input(shape=(m,))\n",
    "    logprice= Lambda(lambda x : K.log(x))(price)\n",
    "    logprice = Add()([logprice, incr])\n",
    "    pricenew=Lambda(lambda x : K.exp(x))(logprice)\n",
    "    price=pricenew\n",
    "    logwealth= Lambda(lambda x : K.log(x))(wealth)\n",
    "    logwealth= Lambda(lambda x : x+r*T/N)(logwealth)\n",
    "    helper1 = Multiply()([strategy, incr])\n",
    "    #helper1 = Lambda()(lambda x : K.sum(x,axis=1))([helper1])\n",
    "    logwealth = Add()([logwealth, helper1])\n",
    "    helper2 = Multiply()([strategy, strategy])\n",
    "    #helper2 = Lambda()(lambda x : K.sum(x,axis=1))([helper1])\n",
    "    helper3 = Lambda(lambda x : x*sigma**2/2*T/N)(helper2)\n",
    "    logwealth = Subtract()([logwealth, helper3])\n",
    "    helper4 = Lambda(lambda x : x*r*T/N)(strategy)\n",
    "    logwealth = Subtract()([logwealth, helper4])\n",
    "    wealthnew=Lambda(lambda x : K.exp(x))(logwealth)# creating the wealth at time j+1\n",
    "    inputs = inputs + [incr]\n",
    "    outputhelper = outputhelper + [strategyeval] # here we collect the strategies\n",
    "    wealth=wealthnew\n",
    "outputs = wealth\n",
    "randomendowment = Lambda(lambda x : -0.0*(K.abs(x-1.0)+x-1.0))(price) \n",
    "outputs = Add()([wealth,randomendowment])\n",
    "outputs = [outputs] + outputhelper \n",
    "outputs = Concatenate()(outputs)\n",
    "\n",
    "model_Merton = Model(inputs=inputs, outputs=outputs)"
   ]
  },
  {
   "cell_type": "code",
   "execution_count": 17,
   "metadata": {},
   "outputs": [],
   "source": [
    "Ktrain = 10**5\n",
    "initialprice = S0\n",
    "initialwealth = X0\n",
    "# xtrain consists of the price S0, \n",
    "#the initial hedging being 0, and dummy variables hedgeeval where the strategies are evaluated, \n",
    "#the initial wealth and the increments of the log price process \n",
    "xtrain = ([initialprice*np.ones((Ktrain,m))] +\n",
    "          [np.zeros((Ktrain,m))]+\n",
    "          [1*np.ones((Ktrain,m))] +\n",
    "          [initialwealth*np.ones((Ktrain,m))] +\n",
    "          [np.random.normal(mu*T/N,sigma*np.sqrt(T)/np.sqrt(N),(Ktrain,m)) for i in range(N)])\n",
    "\n",
    "ytrain=np.zeros((Ktrain,1+N))"
   ]
  },
  {
   "cell_type": "code",
   "execution_count": 18,
   "metadata": {},
   "outputs": [],
   "source": [
    "def custom_loss(y_true,y_pred):\n",
    "    z = - K.log(y_pred[:,0])#-((y_pred[:,0]**gamma-1)/gamma\n",
    "    z=K.mean(z)\n",
    "    return z\n",
    "#def custom_loss(y_true,y_pred):\n",
    "#    z = K.exp(- y_pred[:,0]*ra)#\n",
    "#    z=K.mean(z)\n",
    "#    return z"
   ]
  },
  {
   "cell_type": "code",
   "execution_count": 19,
   "metadata": {},
   "outputs": [],
   "source": [
    "from keras import optimizers\n",
    "\n",
    "adam=optimizers.Adam(lr=0.01)\n",
    "\n",
    "model_Merton.compile(optimizer='adam',loss=custom_loss)"
   ]
  },
  {
   "cell_type": "code",
   "execution_count": 35,
   "metadata": {},
   "outputs": [
    {
     "name": "stdout",
     "output_type": "stream",
     "text": [
      "Epoch 1/10\n",
      "100000/100000 [==============================] - 25s 247us/step - loss: -0.1168\n",
      "Epoch 2/10\n",
      "100000/100000 [==============================] - 18s 180us/step - loss: -0.1218\n",
      "Epoch 3/10\n",
      "100000/100000 [==============================] - 20s 201us/step - loss: -0.1222\n",
      "Epoch 4/10\n",
      "100000/100000 [==============================] - 20s 199us/step - loss: -0.1226\n",
      "Epoch 5/10\n",
      "100000/100000 [==============================] - 17s 172us/step - loss: -0.1230\n",
      "Epoch 6/10\n",
      "100000/100000 [==============================] - 18s 180us/step - loss: -0.1231\n",
      "Epoch 7/10\n",
      "100000/100000 [==============================] - 19s 187us/step - loss: -0.1231\n",
      "Epoch 8/10\n",
      "100000/100000 [==============================] - 19s 195us/step - loss: -0.1232\n",
      "Epoch 9/10\n",
      "100000/100000 [==============================] - 19s 189us/step - loss: -0.1233\n",
      "Epoch 10/10\n",
      "100000/100000 [==============================] - 19s 187us/step - loss: -0.1234\n"
     ]
    }
   ],
   "source": [
    "import matplotlib.pyplot as plt\n",
    "\n",
    "for i in range(1):\n",
    "    model_Merton.fit(x=xtrain,y=ytrain, epochs=10,verbose=True,batch_size=100)"
   ]
  },
  {
   "cell_type": "code",
   "execution_count": 36,
   "metadata": {},
   "outputs": [
    {
     "name": "stdout",
     "output_type": "stream",
     "text": [
      "-0.123797126\n"
     ]
    }
   ],
   "source": [
    "y_pred = model_Merton.predict(xtrain)\n",
    "print(np.mean(-np.log(y_pred[:,0])))"
   ]
  },
  {
   "cell_type": "code",
   "execution_count": 37,
   "metadata": {
    "scrolled": true
   },
   "outputs": [
    {
     "data": {
      "image/png": "[encoded data removed]",
      "text/plain": [
       "<Figure size 432x288 with 1 Axes>"
      ]
     },
     "metadata": {
      "needs_background": "light"
     },
     "output_type": "display_data"
    },
    {
     "name": "stdout",
     "output_type": "stream",
     "text": [
      "1.2842313\n",
      "0.6885613\n"
     ]
    }
   ],
   "source": [
    "plt.hist(model_Merton.predict(xtrain)[:,0])\n",
    "plt.show()\n",
    "print(np.mean(model_Merton.predict(xtrain)[:,0]))\n",
    "print(np.std(model_Merton.predict(xtrain)[:,0]))"
   ]
  },
  {
   "cell_type": "code",
   "execution_count": 50,
   "metadata": {},
   "outputs": [],
   "source": [
    "#k=10#Choose a number between 1 and N-1\n",
    "Ktest=60\n",
    "xtest = ([initialprice*np.ones((Ktest,m))] +\n",
    "          [np.zeros((Ktest,m))]+\n",
    "          [np.linspace(0.7,1.5,Ktest)] +#change this if you go to higher dimensions\n",
    "          [initialwealth*np.ones((Ktest,m))]+\n",
    "          [np.random.normal(mu*T/N,sigma*np.sqrt(T)/np.sqrt(N),(Ktest,m)) for i in range(N)])\n"
   ]
  },
  {
   "cell_type": "code",
   "execution_count": 49,
   "metadata": {},
   "outputs": [
    {
     "data": {
      "image/png": "[encoded data removed]",
      "text/plain": [
       "<Figure size 432x288 with 1 Axes>"
      ]
     },
     "metadata": {
      "needs_background": "light"
     },
     "output_type": "display_data"
    },
    {
     "name": "stdout",
     "output_type": "stream",
     "text": [
      "2.4999999999999996\n"
     ]
    }
   ],
   "source": [
    "#Comparison of learned and true alpha\n",
    "s=np.linspace(0.7,1.5,Ktest)\n",
    "\n",
    "for k in range(1,N):\n",
    "    truestrat=(mu-r)/(sigma**2*(1-gamma))*np.ones(Ktest)\n",
    "    learnedstrat=model_Merton.predict(xtest)[:,k]\n",
    "    plt.plot(s,learnedstrat,s,truestrat)\n",
    "plt.show()\n",
    "print((mu-r)/(sigma**2*(1-gamma)))"
   ]
  },
  {
   "cell_type": "code",
   "execution_count": null,
   "metadata": {},
   "outputs": [],
   "source": []
  },
  {
   "cell_type": "code",
   "execution_count": null,
   "metadata": {},
   "outputs": [],
   "source": []
  }
 ],
 "metadata": {
  "kernelspec": {
   "display_name": "Python 3",
   "language": "python",
   "name": "python3"
  },
  "language_info": {
   "codemirror_mode": {
    "name": "ipython",
    "version": 3
   },
   "file_extension": ".py",
   "mimetype": "text/x-python",
   "name": "python",
   "nbconvert_exporter": "python",
   "pygments_lexer": "ipython3",
   "version": "3.7.5"
  },
  "varInspector": {
   "cols": {
    "lenName": 16,
    "lenType": 16,
    "lenVar": 40
   },
   "kernels_config": {
    "python": {
     "delete_cmd_postfix": "",
     "delete_cmd_prefix": "del ",
     "library": "var_list.py",
     "varRefreshCmd": "print(var_dic_list())"
    },
    "r": {
     "delete_cmd_postfix": ") ",
     "delete_cmd_prefix": "rm(",
     "library": "var_list.r",
     "varRefreshCmd": "cat(var_dic_list()) "
    }
   },
   "types_to_exclude": [
    "module",
    "function",
    "builtin_function_or_method",
    "instance",
    "_Feature"
   ],
   "window_display": false
  }
 },
 "nbformat": 4,
 "nbformat_minor": 4
}
