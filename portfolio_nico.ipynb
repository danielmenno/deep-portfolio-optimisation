{
 "cells": [
  {
   "cell_type": "markdown",
   "metadata": {},
   "source": [
    "# Deep portfolio Optimization"
   ]
  },
  {
   "cell_type": "code",
   "execution_count": 1,
   "metadata": {},
   "outputs": [
    {
     "name": "stderr",
     "output_type": "stream",
     "text": [
      "Using TensorFlow backend.\n"
     ]
    }
   ],
   "source": [
    "import numpy as np\n",
    "import tensorflow as tf\n",
    "\n",
    "from keras.models import Sequential\n",
    "from keras.layers import Input, Dense, Conv2D, Concatenate, Dropout, Subtract, \\\n",
    "                        Flatten, MaxPooling2D, Multiply, Lambda, Add, Dot\n",
    "from keras.backend import constant\n",
    "from keras import optimizers\n",
    "\n",
    "from keras.models import Model\n",
    "from keras.layers import Input\n",
    "from keras import initializers\n",
    "from keras.constraints import max_norm\n",
    "import keras.backend as K\n",
    "\n",
    "import matplotlib.pyplot as plt\n"
   ]
  },
  {
   "cell_type": "code",
   "execution_count": 139,
   "metadata": {},
   "outputs": [],
   "source": [
    "# Trajectories of the Black scholes model\n",
    "# Let it run to initialize the following parameters, the trajectories \n",
    "# are not needed afterwards\n",
    "\n",
    "N=30 # time disrectization\n",
    "S0=1 # initial value of the asset\n",
    "X0=1  # initial wealth\n",
    "T=1 # maturity\n",
    "sigma=0.2 # volatility in Black Scholes\n",
    "mu=0.1\n",
    "r=0.0\n",
    "gamma=0\n",
    "rho = 0\n",
    "uncertainty = 0.3\n",
    "\n",
    "\n",
    "# def r_t(alpha):\n",
    "#     y = tf.constant([1],dtype=tf.float32)\n",
    "#     if(tf.math.less(alpha,y)):\n",
    "#         return r\n",
    "#     else:\n",
    "#         interest = Lambda(lambda x : (mu-r)*x+2*r-mu)(alpha)\n",
    "# #         interest = (mu-r)*alpha+2*r-mu\n",
    "#         return interest\n"
   ]
  },
  {
   "cell_type": "code",
   "execution_count": 4,
   "metadata": {},
   "outputs": [
    {
     "data": {
      "image/png": "[encoded data removed]",
      "text/plain": [
       "<Figure size 1080x360 with 3 Axes>"
      ]
     },
     "metadata": {
      "needs_background": "light"
     },
     "output_type": "display_data"
    }
   ],
   "source": [
    "import numpy as np\n",
    "from random import choice\n",
    "import matplotlib.pyplot as plt\n",
    "from scipy.linalg import cholesky\n",
    "from scipy.linalg import lu\n",
    "\n",
    "n = 2\n",
    "a = 0\n",
    "\n",
    "A = np.matrix([np.random.randn(n) + np.random.randn(1)*a for i in range(n)])\n",
    "A = A*np.transpose(A)\n",
    "D_half = np.diag(np.diag(A)**(-0.5))\n",
    "C = D_half*A*D_half\n",
    "\n",
    "vals = list(np.array(C.ravel())[0])\n",
    "\n",
    "fig, axes = plt.subplots(nrows=1, ncols=2, figsize=(15, 5))\n",
    "axes[0].hist(vals, range=(-1,1))\n",
    "img = axes[1].imshow(C, interpolation=None,cmap = 'inferno')\n",
    "plt.colorbar(img, ax=axes[1])\n",
    "plt.show()"
   ]
  },
  {
   "cell_type": "code",
   "execution_count": 5,
   "metadata": {},
   "outputs": [
    {
     "name": "stdout",
     "output_type": "stream",
     "text": [
      "[[1.         0.62509966]\n",
      " [0.         0.78054495]]\n",
      "(1000, 2)\n",
      "[1.10001438 1.09520279]\n"
     ]
    }
   ],
   "source": [
    "R = cholesky(C)\n",
    "print(R)\n",
    "\n",
    "mu_vec = np.ones(n)*mu\n",
    "sigma_vec = np.ones(n)*sigma\n",
    "\n",
    "avg = []\n",
    "for j in range(1000):\n",
    "    logS= np.zeros((n,N))\n",
    "    logS[:,0]=np.log(S0)*np.ones(n)\n",
    "\n",
    "    for i in range(N-1):\n",
    "        corr_gbm = np.random.normal(0, np.sqrt(T)/np.sqrt(N),size=(1,n))\n",
    "        corr_gbm = np.matmul(corr_gbm,R)\n",
    "        increment = [a*b for a,b in zip(corr_gbm,sigma_vec)]\n",
    "        increment = increment + mu_vec*T/N-(sigma_vec)**2*T/(2*N)\n",
    "        increment = np.reshape(increment, n)\n",
    "        logS[:,i+1] =logS[:,i]+increment\n",
    "    \n",
    "    avg.append(np.exp(logS[:,-1]))\n",
    "print(np.shape(avg))\n",
    "average = np.mean(avg,axis=0)\n",
    "print(average) \n",
    "# S=np.exp(logS)\n",
    "# for i in range(n):\n",
    "#     plt.plot(S[i,:])"
   ]
  },
  {
   "cell_type": "code",
   "execution_count": 81,
   "metadata": {},
   "outputs": [
    {
     "name": "stdout",
     "output_type": "stream",
     "text": [
      "[[1. 0.]\n",
      " [0. 1.]]\n"
     ]
    }
   ],
   "source": [
    "m = 2\n",
    "C = np.array([[1,0],[0,1]])\n",
    "R = cholesky(C)#np.array([[1,-1],[0,0]])#\n",
    "sigma_vec = np.ones(m)*sigma\n",
    "mu_vec = np.ones(m)*mu\n",
    "print(R)"
   ]
  },
  {
   "cell_type": "code",
   "execution_count": 140,
   "metadata": {},
   "outputs": [],
   "source": [
    "### m stocks with same parameters ###\n",
    "\n",
    "m = 2 # dimension of price\n",
    "d = 3 # number of layers in strategy\n",
    "n = 32  # nodes in the first but last layers\n",
    "\n",
    "# architecture is the same for all networks\n",
    "layers = []\n",
    "for j in range(N):\n",
    "    for i in range(d):\n",
    "        if i < d-1:\n",
    "            nodes = n\n",
    "            layer = Dense(nodes, activation='tanh',trainable=True,\n",
    "                      kernel_initializer=initializers.RandomNormal(0,0.5),#kernel_initializer='random_normal',\n",
    "                      bias_initializer=initializers.RandomNormal(0,0.5),\n",
    "                      name=str(i)+str(j))\n",
    "        else:\n",
    "            nodes = m\n",
    "            layer = Dense(nodes, activation='linear', trainable=True,\n",
    "                          kernel_initializer=initializers.RandomNormal(0,0.5),#kernel_initializer='random_normal',\n",
    "                          bias_initializer=initializers.RandomNormal(0,0.5),\n",
    "                          name=str(i)+str(j))\n",
    "        layers = layers + [layer]"
   ]
  },
  {
   "cell_type": "code",
   "execution_count": 141,
   "metadata": {},
   "outputs": [],
   "source": [
    "# Implementing the outcoming of trading via neural networks\n",
    "# Inputs is the training set below, containing the price S0, \n",
    "# again we record the trading strategies on separate input variables 'tradeeval' to read them out easily later\n",
    "price = Input(shape=(m,))\n",
    "tradeeval = Input(shape=(m,))\n",
    "wealth = Input(shape=(1,))\n",
    "\n",
    "inputs = [price]+[tradeeval]+[wealth]\n",
    "outputhelper=[]\n",
    "outputhelper2 = []\n",
    "\n",
    "for j in range(N):\n",
    "    incr = Input(shape=(m,))\n",
    "#     strategy = price\n",
    "#     strategyeval=tradeeval\n",
    "\n",
    "    #giving the model insider information on the movement of the stocks at next timestep\n",
    "    flip = Input(shape=(m,))\n",
    "    insider = Lambda(lambda x: tf.math.sign(x))(incr)\n",
    "    insider = Multiply()([flip,insider]) #flip the information with proba = uncertainty\n",
    "    strategy = Lambda(lambda x: tf.concat(x,axis=1))([price,insider])\n",
    "    strategyeval = Lambda(lambda x: tf.concat(x,axis=1))([tradeeval,insider])\n",
    "                          \n",
    "    for k in range(d):\n",
    "        strategy= layers[k+(j)*d](strategy) # strategy at j is the alpha at j \n",
    "        strategyeval=layers[k+(j)*d](strategyeval)\n",
    "        \n",
    "    #implement an interest rate dependent on strategy    \n",
    "    helper0a = Lambda(lambda x : K.sum(x,axis=1,keepdims=True))(strategy)\n",
    "    helper0b = Lambda(lambda x: K.less(1.0,x))(helper0a)\n",
    "    helper0b = Lambda(lambda x: tf.cast(x,tf.float32))(helper0b)\n",
    "    r_t = Lambda(lambda x: x*(mu_vec.mean()-r)*(helper0a - 1)+r)(helper0b)\n",
    "#     r_t = r\n",
    "        \n",
    "    #implement price increment\n",
    "    temp = Lambda(lambda x : x-sigma_vec**2/2*T/N)(incr)\n",
    "    logprice= Lambda(lambda x : K.log(x))(price)\n",
    "    logprice = Add()([logprice, temp])\n",
    "    pricenew=Lambda(lambda x : K.exp(x))(logprice)\n",
    "    price=pricenew    \n",
    "    \n",
    "    #implement all normal terms of logwealth\n",
    "    logwealth = Lambda(lambda x : K.log(x))(wealth)\n",
    "    helperR = Lambda(lambda x : x*T/N)(r_t)\n",
    "    logwealth = Add()([helperR,logwealth])\n",
    "    helper1 = Multiply()([strategy, incr])\n",
    "    helper1 = Lambda(lambda x : K.sum(x,axis=1))(helper1)\n",
    "    logwealth = Add()([logwealth, helper1])\n",
    "    helper2 = Lambda(lambda x : K.sum(x,axis=1))(strategy)\n",
    "    helper2b = Multiply()([r_t, helper2])\n",
    "    helper2c = Lambda(lambda x : x*T/N)(helper2b)\n",
    "    logwealth = Subtract()([logwealth, helper2c])\n",
    "    \n",
    "    #implement the rho cross terms\n",
    "    helper3 = Lambda(lambda x : sigma_vec*x)(strategy) #(none,m)\n",
    "    helper3t = Lambda(lambda x : K.transpose(x))(helper3) #(m,none)\n",
    "    \n",
    "    temp_chol = K.constant(C) #(m,m) matrix\n",
    "    \n",
    "    helper4 = Lambda(lambda x : K.dot(x,temp_chol))(helper3) #(none,m)*(m,m) = (none,m)\n",
    "    helper4 = Lambda(lambda x: tf.einsum('ij,ji->i',x[0], x[1]))([helper4,helper3t]) #(none,m)*(m,none) = (none,none)\n",
    "    #take only the diag of the (none,none) matrix = (none,)\n",
    "    \n",
    "    helper5 = Lambda(lambda x : 1/2*x*T/N)(helper4)\n",
    "    logwealth = Subtract()([logwealth, helper5])\n",
    "    \n",
    "    wealthnew=Lambda(lambda x : K.exp(x))(logwealth)# creating the wealth at time j+1\n",
    "    inputs = inputs + [incr] + [flip]\n",
    "    outputhelper = outputhelper + [r_t] + [strategy] # here we collect the strategies\n",
    "    wealth=wealthnew\n",
    "\n",
    "outputs = wealth\n",
    "outputs = [outputs] + outputhelper\n",
    "outputs = Concatenate()(outputs)\n",
    "\n",
    "model_Merton_n = Model(inputs=inputs, outputs=outputs)"
   ]
  },
  {
   "cell_type": "code",
   "execution_count": 124,
   "metadata": {},
   "outputs": [
    {
     "name": "stdout",
     "output_type": "stream",
     "text": [
      "(3, 91)\n"
     ]
    }
   ],
   "source": [
    "Ktrain = 3\n",
    "initialprice = S0\n",
    "initialwealth = X0\n",
    "m = 2\n",
    "\n",
    "\n",
    "\n",
    "uncorr = [np.random.normal(0,np.sqrt(T)/np.sqrt(N),(Ktrain,m)) for i in range(N)]\n",
    "corr = []\n",
    "for unc in uncorr:\n",
    "    corr.append(unc@R*sigma_vec+mu_vec*T/N)\n",
    "    corr.append(np.random.choice([-1,1],size=(Ktrain,m),p=[uncertainty,1-uncertainty]))\n",
    "xtrain = ([initialprice*np.ones((Ktrain,m))] +\n",
    "          [np.ones((Ktrain,m))] +\n",
    "          [initialwealth*np.ones((Ktrain,1))] +\n",
    "          corr)\n",
    "\n",
    "ytrain = model_Merton_n.predict(xtrain)\n",
    "print(ytrain.shape)"
   ]
  },
  {
   "cell_type": "code",
   "execution_count": 142,
   "metadata": {},
   "outputs": [],
   "source": [
    "Ktrain = 10**5\n",
    "initialprice = S0\n",
    "initialwealth = X0\n",
    "\n",
    "m = 2\n",
    "uncorr = [np.random.normal(0,np.sqrt(T)/np.sqrt(N),(Ktrain,m)) for i in range(N)]\n",
    "corr = []\n",
    "for unc in uncorr:\n",
    "    corr.append(unc@R*sigma+mu*T/N)\n",
    "    corr.append(np.random.choice([-1,1],size=(Ktrain,m),p=[uncertainty,1-uncertainty]))\n",
    "\n",
    "xtrain = ([initialprice*np.ones((Ktrain,m))] +\n",
    "#           [np.zeros((Ktrain,m))]+\n",
    "          [1*np.ones((Ktrain,m))] +\n",
    "          [initialwealth*np.ones((Ktrain,1))] +\n",
    "                 corr)\n",
    "#           [np.random.normal(mu*T/N,sigma*np.sqrt(T)/np.sqrt(N),(Ktrain,m)) for i in range(N)])\n",
    "\n",
    "ytrain=np.zeros((Ktrain,1+N))"
   ]
  },
  {
   "cell_type": "code",
   "execution_count": 143,
   "metadata": {},
   "outputs": [],
   "source": [
    "def custom_loss(y_true,y_pred):\n",
    "    z = - K.log(y_pred[:,0])\n",
    "#     z = -(y_pred[:,0]**gamma-1)/gamma\n",
    "    z=K.mean(z)\n",
    "    return z\n",
    "#def custom_loss(y_true,y_pred):\n",
    "#    z = K.exp(- y_pred[:,0]*ra)#\n",
    "#    z=K.mean(z)\n",
    "#    return z\n"
   ]
  },
  {
   "cell_type": "code",
   "execution_count": 144,
   "metadata": {},
   "outputs": [],
   "source": [
    "from keras import optimizers\n",
    "\n",
    "adam=optimizers.Adam(lr=0.01)\n",
    "\n",
    "model_Merton_n.compile(optimizer='adam',loss=custom_loss)"
   ]
  },
  {
   "cell_type": "code",
   "execution_count": 146,
   "metadata": {},
   "outputs": [
    {
     "name": "stdout",
     "output_type": "stream",
     "text": [
      "Epoch 1/1\n",
      "100000/100000 [==============================] - 19s 188us/step - loss: -2.1657\n"
     ]
    }
   ],
   "source": [
    "import matplotlib.pyplot as plt\n",
    "\n",
    "for i in range(1):\n",
    "    model_Merton_n.fit(x=xtrain,y=ytrain, epochs=1,verbose=True,batch_size=100)"
   ]
  },
  {
   "cell_type": "code",
   "execution_count": 147,
   "metadata": {},
   "outputs": [],
   "source": [
    "y_pred = model_Merton_n.predict(xtrain)"
   ]
  },
  {
   "cell_type": "code",
   "execution_count": 148,
   "metadata": {},
   "outputs": [
    {
     "data": {
      "image/png": "[encoded data removed]",
      "text/plain": [
       "<Figure size 432x288 with 1 Axes>"
      ]
     },
     "metadata": {
      "needs_background": "light"
     },
     "output_type": "display_data"
    }
   ],
   "source": [
    "logS= np.zeros((m,N))\n",
    "logS[:,0]=np.log(S0)*np.ones(m)\n",
    "for i in range(N-1):\n",
    "        incr = xtrain[3+i][0]\n",
    "        increment = incr -sigma_vec**2/2*T/N\n",
    "        increment = np.reshape(increment, m)\n",
    "        logS[:,i+1] =logS[:,i]+increment\n",
    "S=np.exp(logS)\n",
    "for i in range(m):\n",
    "    plt.plot(S[i,:],label='stock '+str(i))\n",
    "plt.legend()\n",
    "plt.show()"
   ]
  },
  {
   "cell_type": "code",
   "execution_count": 149,
   "metadata": {},
   "outputs": [
    {
     "name": "stdout",
     "output_type": "stream",
     "text": [
      "y_pred shape:       (100000, 91)\n",
      "final wealth:       12.84644\n",
      "r:                  [0.18439353, 0.039222002, -0.0, 0.019461012, 0.0063461303]\n",
      "alpha for stock 1:  [1.2033503, 9.10479, -6.752951, 8.997294, 9.043983]\n",
      "alpha for stock 2:  [1.640585, -7.7125697, -6.670446, -7.8026843, -7.980522]\n",
      "stock 1 increment:  [0.03464172 1.         0.03399366 1.         0.01912015]\n",
      "stock 2 increment:  [ 0.08249542  1.         -0.00815087  1.         -0.0139161 ]\n",
      "number of final wealths under 1:  12289\n"
     ]
    }
   ],
   "source": [
    "k = 0\n",
    "info = y_pred[k]\n",
    "print('y_pred shape:      ', y_pred.shape)\n",
    "print('final wealth:      ', info[0])\n",
    "interest = list(info[1+i*3] for i in range(30))\n",
    "print('r:                 ', interest[0:5])\n",
    "alpha1 = list(info[2+i*3] for i in range(30))\n",
    "print('alpha for stock 1: ', alpha1[0:5])\n",
    "alpha2 = list(info[3+i*3] for i in range(30))\n",
    "print('alpha for stock 2: ', alpha2[0:5])\n",
    "temp = np.array(xtrain[3:8])\n",
    "print('stock 1 increment: ', temp[0:5,k,0])\n",
    "print('stock 2 increment: ', temp[0:5,k,1])\n",
    "\n",
    "#final wealth under 1\n",
    "temp = y_pred[:,0]\n",
    "temp = temp[temp<1]\n",
    "print('number of final wealths under 1: ',len(temp))"
   ]
  },
  {
   "cell_type": "code",
   "execution_count": 150,
   "metadata": {},
   "outputs": [
    {
     "data": {
      "image/png": "[encoded data removed]",
      "text/plain": [
       "<Figure size 576x288 with 1 Axes>"
      ]
     },
     "metadata": {
      "needs_background": "light"
     },
     "output_type": "display_data"
    },
    {
     "name": "stdout",
     "output_type": "stream",
     "text": [
      "avg final wealth for one stock:  50.66843\n",
      "standard deviation of final wealth for n=2 stock:  240.63766\n"
     ]
    }
   ],
   "source": [
    "fig, axs = plt.subplots(nrows=1, ncols=1)\n",
    "   ...: axs.hist(y_pred[:,0], bins=20)\n",
    "    \n",
    "axs.title.set_text('n=2 stock')\n",
    "\n",
    "fig.set_size_inches(8, 4)\n",
    "plt.show()\n",
    "\n",
    "print('avg final wealth for one stock: ', np.mean(y_pred[:,0]))\n",
    "print('standard deviation of final wealth for n=2 stock: ', np.std(y_pred[:,0]))"
   ]
  },
  {
   "cell_type": "code",
   "execution_count": 16,
   "metadata": {},
   "outputs": [],
   "source": [
    "k=10#Choose a number between 1 and N-1\n",
    "Ktest=60\n",
    "xtest = ([initialprice*np.ones((Ktest,m))] +\n",
    "          [np.zeros((Ktest,m))]+\n",
    "          [np.linspace(0.7,1.5,Ktest)] +#change this if you go to higher dimensions\n",
    "          [initialwealth*np.ones((Ktest,m))]+\n",
    "          [np.random.normal(mu*T/N,sigma*np.sqrt(T)/np.sqrt(N),(Ktest,m)) for i in range(N)])\n"
   ]
  },
  {
   "cell_type": "code",
   "execution_count": 17,
   "metadata": {},
   "outputs": [
    {
     "data": {
      "image/png": "[encoded data removed]",
      "text/plain": [
       "<Figure size 432x288 with 1 Axes>"
      ]
     },
     "metadata": {
      "needs_background": "light"
     },
     "output_type": "display_data"
    },
    {
     "name": "stdout",
     "output_type": "stream",
     "text": [
      "2.4999999999999996\n"
     ]
    }
   ],
   "source": [
    "#Comparison of learned and true alpha\n",
    "s=np.linspace(0.7,1.5,Ktest)\n",
    "\n",
    "for k in range(1,N):t\n",
    "    truestrat=(mu-r)/(sigma**2*(1-gamma))*np.ones(Ktest)\n",
    "    learnedstrat=model_Merton.predict(xtest)[:,k]\n",
    "    plt.plot(s,learnedstrat,s,truestrat)\n",
    "plt.show()\n",
    "print((mu-r)/(sigma**2*(1-gamma)))"
   ]
  },
  {
   "cell_type": "code",
   "execution_count": null,
   "metadata": {},
   "outputs": [],
   "source": []
  },
  {
   "cell_type": "code",
   "execution_count": null,
   "metadata": {},
   "outputs": [],
   "source": []
  }
 ],
 "metadata": {
  "kernelspec": {
   "display_name": "Python 3",
   "language": "python",
   "name": "python3"
  },
  "language_info": {
   "codemirror_mode": {
    "name": "ipython",
    "version": 3
   },
   "file_extension": ".py",
   "mimetype": "text/x-python",
   "name": "python",
   "nbconvert_exporter": "python",
   "pygments_lexer": "ipython3",
   "version": "3.7.4"
  }
 },
 "nbformat": 4,
 "nbformat_minor": 2
}
