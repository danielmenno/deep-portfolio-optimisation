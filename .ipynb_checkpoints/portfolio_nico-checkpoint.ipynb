{
 "cells": [
  {
   "cell_type": "markdown",
   "metadata": {},
   "source": [
    "# Deep portfolio Optimization\n",
    "\n",
    "Portfolio optimization appears from our point of view as a special case of deep hedging. Again we give ourselves a market environment in terms of a certain number of price evolutions (they constitute the training data) and preferences in terms of expected utility. Instead of solving the more complicated task of obtaining an indifference price for a payoff at time $T$ we do just go for an optimal portfolio maximizing our preferences. This is a very classical task of financial theory with a couple of caveats:\n",
    "\n",
    "1) We need preferences to solve this problem, i.e. expected utility in our case\n",
    "   $$\n",
    "    X \\mapsto E[u(X)] \\, .\n",
    "   $$\n",
    "   Notice that by Jensen's inequality we have that $ E[u(x+X)] \\leq u \\big( x +E[X] \\big) $, which means that    \n",
    "   we only invest into $X$ if it has positive return.\n",
    "\n",
    "2) Whence we need the return of the market in contrast to Deep hedging where we can also caculate with \n",
    "   respect to measures different from the statistical measure. Notice that the statistical measure is \n",
    "   impossible to determine with short time series even under stationarity assumptions.\n",
    "    \n",
    "3) Also preferences themselves are not given by nature but subjectively and not necessarily time-consistently  determined. Also here an ad hoc assumption appears.\n",
    "\n",
    "Given all the necessary ingredients for deep hedging we can move forward and solve the problem in the particular case, similar to before, where the market is given by a Black-Merton-Scholes model. Of course the core code to solve the problem does not depend on the training data."
   ]
  },
  {
   "cell_type": "markdown",
   "metadata": {},
   "source": [
    "Consider an investor who invests at any time a proportion $\\alpha$ of her wealth in a stock and the proportion $1-\\alpha$ in the bond. We suppose that the bond price grows at the constant interest rate $r$, i.e. \n",
    "\n",
    "$$\n",
    "dB_t=r B_t dt,\n",
    "$$\n",
    "\n",
    "and the stock price evolves according to the Black-Scholes model:\n",
    "\n",
    "$$\n",
    "dS_t=S_t\\mu dt + S_t \\sigma dW_t.\n",
    "$$\n",
    "\n",
    "Prove first that the nonnegative wealth process $X$ controlled by the proportion $(\\alpha_t)_{t \\geq 0}$ with values in $\\mathbb{R}$, invested in the stock is governed by the following diffusion dynamics :\n",
    "\n",
    "$$\n",
    "dX_t= \\alpha_t X_t  \\frac{dS_t}{S_t} + (1-\\alpha_t) X_t r_t dt.\n",
    "$$\n",
    "\n",
    "The objective is to maximize over the portfolio strategy $(\\alpha_t)$ the expected utility \n",
    "of terminal wealth at time $T=1$, i.e.\n",
    "\n",
    "$$\n",
    "\\max_{\\alpha} \\mathbb{E}_{P}[u(X_1)].\n",
    "$$\n",
    "\n",
    "Take as utility function the CRRA (Constant Relative Risk Aversion) function $u(x)=\\frac{x^{\\gamma}-1}{\\gamma}$ with $0<\\gamma <1$ and $ u(x) = \\log(x) $ for $ \\gamma = 0 $. These are typical utility functions defined on $ \\mathbb{R}_{\\geq 0} $ with risk aversion parameter $ \\gamma $.\n",
    "Start with initial wealth of $X_0=1$, take $\\mu=0.1$, $r=0.05$ and $\\sigma=0.2$, discretize the SDE for $X$ and try to find an optimal proportion $\\alpha$ by parametrizing $\\alpha$ as a neural network depending on the current price. How does $\\alpha$ depend on the choice of $\\gamma$? This is the classical question of the Merton problem solved by Robert Merton in March 1970, so precisely 50 years ago, in the famous paper [Optimum Consumption Rules in a Continuous-time model](https://dspace.mit.edu/bitstream/handle/1721.1/63980/optimumconsumpti00mert.pdf;jsessionid=210961A5E3789DD3A9D1D7C7ACDA6CC2?sequence=1).\n",
    "\n",
    "Actually there a more general problem is solved: the strategy is optimized among all possible predictable strategies but it turns out due to the homogeneities of the model that the ratio is actually constant, then the calculation is indeed quite simple: we have to optimize\n",
    "$$\n",
    "\\alpha \\mapsto E\\Big[\\exp \\big( \\gamma(\\alpha \\sigma B_t - \\frac{-\\alpha\\mu + \\alpha^2\\sigma^2}{2}t + (1-\\alpha)rt \\big) \\Big] \\,\n",
    "$$\n",
    "whose first order condition leads to\n",
    "$$\n",
    "E\\Big[\\exp \\big( \\gamma(\\alpha \\sigma B_T - \\frac{- 2 \\alpha\\mu + \\alpha^2\\sigma^2}{2}T + (1-\\alpha)rT \\big) \\big(\\sigma B_T + \\alpha \\sigma^2 T + \\mu T - rT \\big)\\Big] = 0 \\, .\n",
    "$$\n",
    "This can be solved by actually expanding for small $T$ and collecting orders up to $ T $, indeed\n",
    "$$\n",
    "E\\Big[ \\big( 1 + \\gamma(\\alpha \\sigma B_T + \\frac{\\alpha^2\\sigma^2\\gamma}{2}B_T^2 - \\frac{-2 \\alpha\\mu + \\alpha^2\\sigma^2}{2}T + (1-\\alpha)rT \\big) \\big(\\sigma B_T - \\alpha \\sigma^2 T + \\mu T - rT \\big)\\Big] = 0 \\, .\n",
    "$$\n",
    "There is obviously no order $0$ term in $T$, there is an order $ \\sqrt{T} $ term proportional to $ E[B_T] $ which vanishes, whence we are left with the order $ T $, which reads\n",
    "$$\n",
    " -\\alpha \\sigma^2  + \\mu  - r + \\gamma \\alpha \\sigma^2 = 0\n",
    "$$\n",
    "and leads to the result $ \\alpha^* = \\frac{\\mu - r}{\\sigma^2(1-\\gamma)} $.If the above calculation is done with enough care, one can also see the result that a predictable strategy actually has to be constant in time and factors."
   ]
  },
  {
   "cell_type": "code",
   "execution_count": 1,
   "metadata": {},
   "outputs": [
    {
     "name": "stderr",
     "output_type": "stream",
     "text": [
      "Using TensorFlow backend.\n"
     ]
    }
   ],
   "source": [
    "import numpy as np\n",
    "import tensorflow as tf\n",
    "\n",
    "from keras.models import Sequential\n",
    "from keras.layers import Input, Dense, Conv2D, Concatenate, Dropout, Subtract, \\\n",
    "                        Flatten, MaxPooling2D, Multiply, Lambda, Add, Dot\n",
    "from keras.backend import constant\n",
    "from keras import optimizers\n",
    "\n",
    "from keras.engine.topology import Layer\n",
    "from keras.models import Model\n",
    "from keras.layers import Input\n",
    "from keras import initializers\n",
    "from keras.constraints import max_norm\n",
    "import keras.backend as K\n",
    "\n",
    "import matplotlib.pyplot as plt"
   ]
  },
  {
   "cell_type": "code",
   "execution_count": 2,
   "metadata": {},
   "outputs": [],
   "source": [
    "# Trajectories of the Black scholes model\n",
    "# Let it run to initialize the following parameters, the trajectories \n",
    "# are not needed afterwards\n",
    "\n",
    "N=30 # time disrectization\n",
    "S0=1 # initial value of the asset\n",
    "X0=1  # initial wealth\n",
    "T=1 # maturity\n",
    "sigma=0.2 # volatility in Black Scholes\n",
    "mu=0.1\n",
    "r=0.0\n",
    "gamma=0.0\n",
    "R=10**5 # number of Trajectories\n",
    "\n",
    "logS= np.zeros((N,R))\n",
    "logS[0,]=np.log(S0)*np.ones((1,R))\n",
    "\n",
    "for i in range(R):\n",
    "    for j in range(N-1):\n",
    "        increment = np.random.normal(mu*T/N-(sigma)**2*T/(2*N),sigma*np.sqrt(T)/np.sqrt(N))\n",
    "        logS[j+1,i] =logS[j,i]+increment\n",
    "\n",
    "S=np.exp(logS)"
   ]
  },
  {
   "cell_type": "code",
   "execution_count": 3,
   "metadata": {},
   "outputs": [
    {
     "data": {
      "image/png": "[encoded data removed]",
      "text/plain": [
       "<Figure size 432x288 with 1 Axes>"
      ]
     },
     "metadata": {
      "needs_background": "light"
     },
     "output_type": "display_data"
    }
   ],
   "source": [
    "for i in range(1):\n",
    "   plt.plot(S[:,i])\n",
    "plt.show()"
   ]
  },
  {
   "cell_type": "code",
   "execution_count": 4,
   "metadata": {},
   "outputs": [
    {
     "name": "stdout",
     "output_type": "stream",
     "text": [
      "-0.12256330843977375\n"
     ]
    }
   ],
   "source": [
    "logX= np.zeros((N,R))\n",
    "logX[0,]=np.log(X0)*np.ones((1,R))\n",
    "alpha= (mu-r)/(sigma**2*(1-gamma))\n",
    "for i in range(R):\n",
    "    for j in range(N-1):\n",
    "        increment = np.random.normal(mu*T/N,sigma*np.sqrt(T)/np.sqrt(N))\n",
    "        logX[j+1,i] =logX[j,i]+increment*alpha+r*T/N*(1-alpha)-alpha**2*sigma**2*T/(2*N)\n",
    "\n",
    "X=np.exp(logX)\n",
    "loss=np.mean(-np.log(X[N-1,:]))# np.mean(-(W[N-1,:]**gamma))\n",
    "print(loss)"
   ]
  },
  {
   "cell_type": "code",
   "execution_count": 5,
   "metadata": {},
   "outputs": [
    {
     "data": {
      "image/png": "[encoded data removed]",
      "text/plain": [
       "<Figure size 432x288 with 1 Axes>"
      ]
     },
     "metadata": {
      "needs_background": "light"
     },
     "output_type": "display_data"
    },
    {
     "name": "stdout",
     "output_type": "stream",
     "text": [
      "1.275243079601807\n",
      "0.6656213076393487\n"
     ]
    }
   ],
   "source": [
    "plt.hist(X[N-1,:])\n",
    "plt.show()\n",
    "print(np.mean(X[N-1,:]))\n",
    "print(np.std(X[N-1,:]))"
   ]
  },
  {
   "cell_type": "code",
   "execution_count": 6,
   "metadata": {},
   "outputs": [],
   "source": [
    "#Definition of neural networks for trading strategies\n",
    "\n",
    "m = 1 # dimension of price\n",
    "d = 3 # number of layers in strategy\n",
    "n = 32  # nodes in the first but last layers\n",
    "\n",
    "# architecture is the same for all networks\n",
    "layers = []\n",
    "for j in range(N):\n",
    "    for i in range(d):\n",
    "        if i < d-1:\n",
    "            nodes = n\n",
    "            layer = Dense(nodes, activation='tanh',trainable=True,\n",
    "                      kernel_initializer=initializers.RandomNormal(0,0.5),#kernel_initializer='random_normal',\n",
    "                      bias_initializer=initializers.RandomNormal(0,0.5),\n",
    "                      name=str(i)+str(j))\n",
    "        else:\n",
    "            nodes = m\n",
    "            layer = Dense(nodes, activation='linear', trainable=True,\n",
    "                          kernel_initializer=initializers.RandomNormal(0,0.5),#kernel_initializer='random_normal',\n",
    "                          bias_initializer=initializers.RandomNormal(0,0.5),\n",
    "                          name=str(i)+str(j))\n",
    "        layers = layers + [layer]"
   ]
  },
  {
   "cell_type": "code",
   "execution_count": 7,
   "metadata": {},
   "outputs": [],
   "source": [
    "# Implementing the outcoming of trading via neural networks\n",
    "# Inputs is the training set below, containing the price S0, \n",
    "# again we record the trading strategies on separate input variables 'tradeeval' to read them out easily later\n",
    "price = Input(shape=(m,))\n",
    "trade = Input(shape=(m,))\n",
    "tradeeval = Input(shape=(m,))\n",
    "wealth = Input(shape=(1,))\n",
    "\n",
    "inputs = [price]+[trade]+[tradeeval]+[wealth]\n",
    "outputhelper=[]\n",
    "outputhelper2 = []\n",
    "\n",
    "for j in range(N):\n",
    "    strategy = price\n",
    "    strategyeval=tradeeval\n",
    "    for k in range(d):\n",
    "        strategy= layers[k+(j)*d](strategy) # strategy at j is the alpha at j \n",
    "        strategyeval=layers[k+(j)*d](strategyeval)\n",
    "    incr = Input(shape=(m,))\n",
    "    logprice= Lambda(lambda x : K.log(x))(price)\n",
    "    logprice = Add()([logprice, incr])\n",
    "    pricenew=Lambda(lambda x : K.exp(x))(logprice)\n",
    "    price=pricenew\n",
    "    logwealth= Lambda(lambda x : K.log(x))(wealth)\n",
    "    logwealth= Lambda(lambda x : x+r*T/N)(logwealth)\n",
    "    helper1 = Multiply()([strategy, incr])\n",
    "    #helper1 = Lambda()(lambda x : K.sum(x,axis=1))([helper1])\n",
    "    logwealth = Add()([logwealth, helper1])\n",
    "    helper2 = Multiply()([strategy, strategy])\n",
    "    #helper2 = Lambda()(lambda x : K.sum(x,axis=1))([helper1])\n",
    "    helper3 = Lambda(lambda x : x*sigma**2/2*T/N)(helper2)\n",
    "    logwealth = Subtract()([logwealth, helper3])\n",
    "    helper4 = Lambda(lambda x : x*r*T/N)(strategy)\n",
    "    logwealth = Subtract()([logwealth, helper4])\n",
    "    wealthnew=Lambda(lambda x : K.exp(x))(logwealth)# creating the wealth at time j+1\n",
    "    inputs = inputs + [incr]\n",
    "    outputhelper = outputhelper + [strategyeval] # here we collect the strategies\n",
    "    wealth=wealthnew\n",
    "outputs = wealth\n",
    "randomendowment = Lambda(lambda x : -0.0*(K.abs(x-1.0)+x-1.0))(price) \n",
    "outputs = Add()([wealth,randomendowment])\n",
    "outputs = [outputs] + outputhelper \n",
    "outputs = Concatenate()(outputs)\n",
    "\n",
    "model_Merton = Model(inputs=inputs, outputs=outputs)"
   ]
  },
  {
   "cell_type": "code",
   "execution_count": 18,
   "metadata": {},
   "outputs": [],
   "source": [
    "### Two stocks with same parameters ###\n",
    "\n",
    "m = 2 # dimension of price\n",
    "d = 3 # number of layers in strategy\n",
    "n = 32  # nodes in the first but last layers\n",
    "\n",
    "# architecture is the same for all networks\n",
    "layers = []\n",
    "for j in range(N):\n",
    "    for i in range(d):\n",
    "        if i < d-1:\n",
    "            nodes = n\n",
    "            layer = Dense(nodes, activation='tanh',trainable=True,\n",
    "                      kernel_initializer=initializers.RandomNormal(0,0.5),#kernel_initializer='random_normal',\n",
    "                      bias_initializer=initializers.RandomNormal(0,0.5),\n",
    "                      name=str(i)+str(j))\n",
    "        else:\n",
    "            nodes = m\n",
    "            layer = Dense(nodes, activation='linear', trainable=True,\n",
    "                          kernel_initializer=initializers.RandomNormal(0,0.5),#kernel_initializer='random_normal',\n",
    "                          bias_initializer=initializers.RandomNormal(0,0.5),\n",
    "                          name=str(i)+str(j))\n",
    "        layers = layers + [layer]"
   ]
  },
  {
   "cell_type": "code",
   "execution_count": 35,
   "metadata": {},
   "outputs": [],
   "source": [
    "# Implementing the outcoming of trading via neural networks\n",
    "# Inputs is the training set below, containing the price S0, \n",
    "# again we record the trading strategies on separate input variables 'tradeeval' to read them out easily later\n",
    "price = Input(shape=(m,))\n",
    "trade = Input(shape=(m,))\n",
    "tradeeval = Input(shape=(m,))\n",
    "wealth = Input(shape=(1,))\n",
    "\n",
    "inputs = [price]+[trade]+[tradeeval]+[wealth]\n",
    "outputhelper=[]\n",
    "outputhelper2 = []\n",
    "\n",
    "for j in range(N):\n",
    "    strategy = price\n",
    "    strategyeval=tradeeval\n",
    "    for k in range(d):\n",
    "        strategy= layers[k+(j)*d](strategy) # strategy at j is the alpha at j \n",
    "        strategyeval=layers[k+(j)*d](strategyeval)\n",
    "    incr = Input(shape=(m,))\n",
    "    logprice= Lambda(lambda x : K.log(x))(price)\n",
    "    logprice = Add()([logprice, incr])\n",
    "    pricenew=Lambda(lambda x : K.exp(x))(logprice)\n",
    "    price=pricenew\n",
    "    logwealth= Lambda(lambda x : K.log(x))(wealth)\n",
    "    logwealth= Lambda(lambda x : x+r*T/N)(logwealth)\n",
    "    helper1 = Multiply()([strategy, incr])\n",
    "    helper1 = Lambda(lambda x : K.sum(x,axis=1))(helper1)\n",
    "    logwealth = Add()([logwealth, helper1])\n",
    "    helper2 = Multiply()([strategy, strategy])\n",
    "    helper2 = Lambda(lambda x : K.sum(x,axis=1))(helper2)\n",
    "    helper3 = Lambda(lambda x : x*sigma**2/2*T/N)(helper2)\n",
    "    logwealth = Subtract()([logwealth, helper3])\n",
    "    helper4 = Lambda(lambda x : K.sum(x,axis=1))(strategy)\n",
    "    helper4 = Lambda(lambda x : x*r*T/N)(helper4)\n",
    "    logwealth = Subtract()([logwealth, helper4])\n",
    "    wealthnew=Lambda(lambda x : K.exp(x))(logwealth)# creating the wealth at time j+1\n",
    "    inputs = inputs + [incr]\n",
    "    outputhelper = outputhelper + [strategyeval] # here we collect the strategies\n",
    "    wealth=wealthnew\n",
    "outputs = wealth\n",
    "# randomendowment = Lambda(lambda x : -0.0*(K.abs(x-1.0)+x-1.0))(price) \n",
    "# outputs = Add()([wealth,randomendowment])\n",
    "outputs = [outputs] #+ outputhelper \n",
    "# outputs = Concatenate()(outputs)\n",
    "\n",
    "model_Merton_2 = Model(inputs=inputs, outputs=outputs)"
   ]
  },
  {
   "cell_type": "code",
   "execution_count": 36,
   "metadata": {},
   "outputs": [
    {
     "name": "stdout",
     "output_type": "stream",
     "text": [
      "[[0.5010029]]\n"
     ]
    }
   ],
   "source": [
    "Ktrain = 1\n",
    "initialprice = S0\n",
    "initialwealth = X0\n",
    "# xtrain consists of the price S0, \n",
    "#the initial hedging being 0, and dummy variables hedgeeval where the strategies are evaluated, \n",
    "#the initial wealth and the increments of the log price process \n",
    "xtrain = ([initialprice*np.ones((Ktrain,m))] +\n",
    "          [np.zeros((Ktrain,m))]+\n",
    "          [1*np.ones((Ktrain,m))] +\n",
    "          [initialwealth*np.ones((Ktrain,1))] +\n",
    "          [np.random.normal(mu*T/N,sigma*np.sqrt(T)/np.sqrt(N),(Ktrain,m)) for i in range(N)])\n",
    "\n",
    "ytrain = model_Merton_2.predict(xtrain)\n",
    "print(ytrain)"
   ]
  },
  {
   "cell_type": "code",
   "execution_count": 50,
   "metadata": {},
   "outputs": [],
   "source": [
    "Ktrain = 10**5\n",
    "initialprice = S0\n",
    "initialwealth = X0\n",
    "# xtrain consists of the price S0, \n",
    "#the initial hedging being 0, and dummy variables hedgeeval where the strategies are evaluated, \n",
    "#the initial wealth and the increments of the log price process \n",
    "m = 1\n",
    "xtrain = ([initialprice*np.ones((Ktrain,m))] +\n",
    "          [np.zeros((Ktrain,m))]+\n",
    "          [1*np.ones((Ktrain,m))] +\n",
    "          [initialwealth*np.ones((Ktrain,1))] +\n",
    "          [np.random.normal(mu*T/N,sigma*np.sqrt(T)/np.sqrt(N),(Ktrain,m)) for i in range(N)])\n",
    "\n",
    "m = 2\n",
    "xtrain2 = ([initialprice*np.ones((Ktrain,m))] +\n",
    "          [np.zeros((Ktrain,m))]+\n",
    "          [1*np.ones((Ktrain,m))] +\n",
    "          [initialwealth*np.ones((Ktrain,1))] +\n",
    "          [np.random.normal(mu*T/N,sigma*np.sqrt(T)/np.sqrt(N),(Ktrain,m)) for i in range(N)])\n",
    "\n",
    "ytrain=np.zeros((Ktrain,1+N))"
   ]
  },
  {
   "cell_type": "code",
   "execution_count": 38,
   "metadata": {},
   "outputs": [],
   "source": [
    "def custom_loss(y_true,y_pred):\n",
    "    z = - K.log(y_pred[:,0])#-((y_pred[:,0]**gamma-1)/gamma\n",
    "    z=K.mean(z)\n",
    "    return z\n",
    "#def custom_loss(y_true,y_pred):\n",
    "#    z = K.exp(- y_pred[:,0]*ra)#\n",
    "#    z=K.mean(z)\n",
    "#    return z"
   ]
  },
  {
   "cell_type": "code",
   "execution_count": 14,
   "metadata": {},
   "outputs": [],
   "source": [
    "from keras import optimizers\n",
    "\n",
    "adam=optimizers.Adam(lr=0.01)\n",
    "\n",
    "model_Merton.compile(optimizer='adam',loss=custom_loss)"
   ]
  },
  {
   "cell_type": "code",
   "execution_count": 39,
   "metadata": {},
   "outputs": [],
   "source": [
    "from keras import optimizers\n",
    "\n",
    "adam=optimizers.Adam(lr=0.01)\n",
    "\n",
    "model_Merton_2.compile(optimizer='adam',loss=custom_loss)"
   ]
  },
  {
   "cell_type": "code",
   "execution_count": 15,
   "metadata": {},
   "outputs": [
    {
     "name": "stdout",
     "output_type": "stream",
     "text": [
      "Epoch 1/10\n",
      "100000/100000 [==============================] - 21s 205us/step - loss: -0.1167\n",
      "Epoch 2/10\n",
      "100000/100000 [==============================] - 15s 151us/step - loss: -0.1212\n",
      "Epoch 3/10\n",
      "100000/100000 [==============================] - 15s 145us/step - loss: -0.1216\n",
      "Epoch 4/10\n",
      "100000/100000 [==============================] - 15s 146us/step - loss: -0.1221\n",
      "Epoch 5/10\n",
      "100000/100000 [==============================] - 15s 149us/step - loss: -0.1224\n",
      "Epoch 6/10\n",
      "100000/100000 [==============================] - 16s 156us/step - loss: -0.1223\n",
      "Epoch 7/10\n",
      "100000/100000 [==============================] - 15s 147us/step - loss: -0.1226\n",
      "Epoch 8/10\n",
      "100000/100000 [==============================] - 15s 147us/step - loss: -0.1228\n",
      "Epoch 9/10\n",
      "100000/100000 [==============================] - 15s 147us/step - loss: -0.1228\n",
      "Epoch 10/10\n",
      "100000/100000 [==============================] - 15s 148us/step - loss: -0.1228\n"
     ]
    }
   ],
   "source": [
    "import matplotlib.pyplot as plt\n",
    "\n",
    "for i in range(1):\n",
    "    model_Merton.fit(x=xtrain,y=ytrain, epochs=10,verbose=True,batch_size=100)"
   ]
  },
  {
   "cell_type": "code",
   "execution_count": 40,
   "metadata": {},
   "outputs": [
    {
     "name": "stdout",
     "output_type": "stream",
     "text": [
      "Epoch 1/10\n",
      "100000/100000 [==============================] - 21s 208us/step - loss: -0.2367\n",
      "Epoch 2/10\n",
      "100000/100000 [==============================] - 16s 158us/step - loss: -0.2469\n",
      "Epoch 3/10\n",
      "100000/100000 [==============================] - 18s 182us/step - loss: -0.2477\n",
      "Epoch 4/10\n",
      "100000/100000 [==============================] - 17s 165us/step - loss: -0.2484\n",
      "Epoch 5/10\n",
      "100000/100000 [==============================] - 16s 156us/step - loss: -0.2489\n",
      "Epoch 6/10\n",
      "100000/100000 [==============================] - 17s 166us/step - loss: -0.2490\n",
      "Epoch 7/10\n",
      "100000/100000 [==============================] - 16s 156us/step - loss: -0.2493\n",
      "Epoch 8/10\n",
      "100000/100000 [==============================] - 16s 155us/step - loss: -0.2496\n",
      "Epoch 9/10\n",
      "100000/100000 [==============================] - 16s 159us/step - loss: -0.2496\n",
      "Epoch 10/10\n",
      "100000/100000 [==============================] - 15s 153us/step - loss: -0.2496\n"
     ]
    }
   ],
   "source": [
    "import matplotlib.pyplot as plt\n",
    "\n",
    "for i in range(1):\n",
    "    model_Merton_2.fit(x=xtrain2,y=ytrain, epochs=10,verbose=True,batch_size=100)"
   ]
  },
  {
   "cell_type": "code",
   "execution_count": 51,
   "metadata": {},
   "outputs": [
    {
     "name": "stdout",
     "output_type": "stream",
     "text": [
      "-0.12323544\n",
      "-0.2485123\n"
     ]
    }
   ],
   "source": [
    "y_pred = model_Merton.predict(xtrain)\n",
    "y_pred2 = model_Merton_2.predict(xtrain2)\n",
    "print(np.mean(-np.log(y_pred[:,0])))\n",
    "print(np.mean(-np.log(y_pred2[:,0])))"
   ]
  },
  {
   "cell_type": "code",
   "execution_count": 58,
   "metadata": {},
   "outputs": [
    {
     "data": {
      "image/png": "[encoded data removed]",
      "text/plain": [
       "<Figure size 864x288 with 2 Axes>"
      ]
     },
     "metadata": {
      "needs_background": "light"
     },
     "output_type": "display_data"
    },
    {
     "name": "stdout",
     "output_type": "stream",
     "text": [
      "avg final wealth for one stock:  1.2799455\n",
      "standard deviation of final wealth for one stock:  0.676861\n",
      "avg final wealth for two stocks:  1.645915\n",
      "standard deviation of final wealth for two stocks:  1.3275398\n"
     ]
    }
   ],
   "source": [
    "fig, axs = plt.subplots(nrows=1, ncols=2)\n",
    "   ...: axs[0].hist(y_pred[:,0], bins=20, range=(0, 15))\n",
    "   ...: axs[1].hist(y_pred2[:,0], bins=20, range=(0, 15))\n",
    "    \n",
    "axs[0].title.set_text('One stock')\n",
    "axs[1].title.set_text('Two stocks')\n",
    "fig.set_size_inches(12, 4)\n",
    "plt.show()\n",
    "\n",
    "print('avg final wealth for one stock: ', np.mean(y_pred[:,0]))\n",
    "print('standard deviation of final wealth for one stock: ', np.std(y_pred[:,0]))\n",
    "\n",
    "print('avg final wealth for two stocks: ', np.mean(y_pred2[:,0]))\n",
    "print('standard deviation of final wealth for two stocks: ', np.std(y_pred2[:,0]))"
   ]
  },
  {
   "cell_type": "code",
   "execution_count": 16,
   "metadata": {},
   "outputs": [],
   "source": [
    "k=10#Choose a number between 1 and N-1\n",
    "Ktest=60\n",
    "xtest = ([initialprice*np.ones((Ktest,m))] +\n",
    "          [np.zeros((Ktest,m))]+\n",
    "          [np.linspace(0.7,1.5,Ktest)] +#change this if you go to higher dimensions\n",
    "          [initialwealth*np.ones((Ktest,m))]+\n",
    "          [np.random.normal(mu*T/N,sigma*np.sqrt(T)/np.sqrt(N),(Ktest,m)) for i in range(N)])\n"
   ]
  },
  {
   "cell_type": "code",
   "execution_count": 17,
   "metadata": {},
   "outputs": [
    {
     "data": {
      "image/png": "[encoded data removed]",
      "text/plain": [
       "<Figure size 432x288 with 1 Axes>"
      ]
     },
     "metadata": {
      "needs_background": "light"
     },
     "output_type": "display_data"
    },
    {
     "name": "stdout",
     "output_type": "stream",
     "text": [
      "2.4999999999999996\n"
     ]
    }
   ],
   "source": [
    "#Comparison of learned and true alpha\n",
    "s=np.linspace(0.7,1.5,Ktest)\n",
    "\n",
    "for k in range(1,N):t\n",
    "    truestrat=(mu-r)/(sigma**2*(1-gamma))*np.ones(Ktest)\n",
    "    learnedstrat=model_Merton.predict(xtest)[:,k]\n",
    "    plt.plot(s,learnedstrat,s,truestrat)\n",
    "plt.show()\n",
    "print((mu-r)/(sigma**2*(1-gamma)))"
   ]
  },
  {
   "cell_type": "code",
   "execution_count": null,
   "metadata": {},
   "outputs": [],
   "source": []
  },
  {
   "cell_type": "code",
   "execution_count": null,
   "metadata": {},
   "outputs": [],
   "source": []
  }
 ],
 "metadata": {
  "kernelspec": {
   "display_name": "Python 3",
   "language": "python",
   "name": "python3"
  },
  "language_info": {
   "codemirror_mode": {
    "name": "ipython",
    "version": 3
   },
   "file_extension": ".py",
   "mimetype": "text/x-python",
   "name": "python",
   "nbconvert_exporter": "python",
   "pygments_lexer": "ipython3",
   "version": "3.7.4"
  }
 },
 "nbformat": 4,
 "nbformat_minor": 2
}
