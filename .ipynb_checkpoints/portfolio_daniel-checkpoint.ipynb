{
 "cells": [
  {
   "cell_type": "code",
   "execution_count": 1,
   "metadata": {
    "jupyter": {
     "source_hidden": true
    }
   },
   "outputs": [],
   "source": [
    "import numpy as np\n",
    "import tensorflow as tf\n",
    "\n",
    "from tensorflow.keras.models import Sequential\n",
    "from tensorflow.keras.layers import Input, Dense, Conv2D, Concatenate, Dropout, Subtract, \\\n",
    "                        Flatten, MaxPooling2D, Multiply, Lambda, Add, Dot\n",
    "from tensorflow.keras.backend import constant\n",
    "from tensorflow.keras import optimizers\n",
    "\n",
    "#from keras.engine.topology import Layer\n",
    "from tensorflow.keras.models import Model\n",
    "from tensorflow.keras.layers import Input\n",
    "from tensorflow.keras import initializers\n",
    "from tensorflow.keras.constraints import max_norm\n",
    "import tensorflow.keras.backend as K\n",
    "\n",
    "import matplotlib.pyplot as plt\n",
    "from scipy.stats import random_correlation\n",
    "from sklearn.datasets import make_sparse_spd_matrix"
   ]
  },
  {
   "cell_type": "code",
   "execution_count": 1,
   "metadata": {},
   "outputs": [
    {
     "name": "stderr",
     "output_type": "stream",
     "text": [
      "Using TensorFlow backend.\n"
     ]
    }
   ],
   "source": [
    "import numpy as np\n",
    "import tensorflow as tf\n",
    "\n",
    "from keras.models import Sequential\n",
    "from keras.layers import Input, Dense, Conv2D, Concatenate, Dropout, Subtract, \\\n",
    "                        Flatten, MaxPooling2D, Multiply, Lambda, Add, Dot\n",
    "from keras.backend import constant\n",
    "from keras import optimizers\n",
    "\n",
    "#from keras.engine.topology import Layer\n",
    "from keras.models import Model\n",
    "from keras.layers import Input\n",
    "from keras import initializers\n",
    "from keras.constraints import max_norm\n",
    "import keras.backend as K\n",
    "\n",
    "import matplotlib.pyplot as plt\n",
    "from scipy.stats import random_correlation\n",
    "from sklearn.datasets import make_sparse_spd_matrix"
   ]
  },
  {
   "cell_type": "code",
   "execution_count": 2,
   "metadata": {},
   "outputs": [],
   "source": [
    "## Generalisation to multiple stocks -- SET D= # of stocks\n",
    "N=30 # time disrectization\n",
    "m = 2#number of stocks\n",
    "S0 = np.random.normal(1,0.0,m).reshape(1,m) # initial value of the asset(s)\n",
    "X0=1  # initial wealth\n",
    "T=1 # maturity\n",
    "sigma=0.2 # volatility in Black Scholes\n",
    "gamma=0.0\n",
    "sigma = np.abs(np.random.normal(0.2,gamma,m).reshape(m,))\n",
    "mu=np.random.normal(0.1,0.2,m).reshape(1,m)\n",
    "#mu = np.array([0.1,0.3])\n",
    "r=0.05\n",
    "uncertainty = 0.5\n",
    "\n",
    "R=10**5 # number of Trajectories\n",
    "eigenvals = []\n",
    "if m > 1:\n",
    "    for _ in range(m):\n",
    "        eigenvals.append(np.random.uniform(0,m))\n",
    "    eigenvals = m/sum(eigenvals)*np.array(eigenvals)\n",
    "    rho = random_correlation.rvs(eigenvals)\n",
    "\n",
    "#Turn elements ON/OFF\n",
    "VAR_RATE = False\n",
    "INSIDER = False\n",
    "VASICEK = True\n",
    "\n",
    "#Vasicek interest rate\n",
    "a = 0.5\n",
    "b = 0.02\n",
    "r_sigma = 0.02"
   ]
  },
  {
   "cell_type": "code",
   "execution_count": null,
   "metadata": {
    "jupyter": {
     "source_hidden": true
    }
   },
   "outputs": [],
   "source": [
    "# logS= np.zeros((N,R))\n",
    "# logS[0,]=np.log(S0)*np.ones((1,R))\n",
    "\n",
    "# for i in range(R):\n",
    "#     for j in range(N-1):\n",
    "#         increment = np.random.normal(mu*T/N-(sigma)**2*T/(2*N),sigma*np.sqrt(T)/np.sqrt(N))\n",
    "#         logS[j+1,i] =logS[j,i]+increment\n",
    "\n",
    "# S=np.exp(logS)"
   ]
  },
  {
   "cell_type": "code",
   "execution_count": 23,
   "metadata": {},
   "outputs": [
    {
     "data": {
      "image/png": "[encoded data removed]",
      "text/plain": [
       "<Figure size 432x288 with 1 Axes>"
      ]
     },
     "metadata": {
      "needs_background": "light"
     },
     "output_type": "display_data"
    }
   ],
   "source": [
    "r = 0.1\n",
    "a = 0.5\n",
    "b = 0.05\n",
    "r_sigma = 0.01\n",
    "N=100\n",
    "dt = T/N\n",
    "rs=[r]\n",
    "\n",
    "for i in range(N):\n",
    "    rs.append(rs[i]+a*(b-rs[i])*dt+r_sigma*np.random.normal(0,np.sqrt(T)/np.sqrt(N)))\n",
    "plt.plot(range(N+1),rs)\n",
    "plt.show()"
   ]
  },
  {
   "cell_type": "code",
   "execution_count": 3,
   "metadata": {},
   "outputs": [],
   "source": [
    "#Definition of neural networks for trading strategies\n",
    "\n",
    "#m = D # dimension of price\n",
    "d = 3 # number of layers in strategy\n",
    "n = 32  # nodes in the first but last layers\n",
    "\n",
    "# architecture is the same for all networks\n",
    "layers = []\n",
    "for j in range(N):\n",
    "    for i in range(d):\n",
    "        if i < d-1:\n",
    "            nodes = n\n",
    "            layer = Dense(nodes, activation='tanh',trainable=True,\n",
    "                      kernel_initializer=initializers.RandomNormal(0,0.5),#kernel_initializer='random_normal',\n",
    "                      bias_initializer=initializers.RandomNormal(0,0.5),\n",
    "                      name=str(i)+str(j))\n",
    "        else:\n",
    "            nodes = m\n",
    "            layer = Dense(nodes, activation='linear', trainable=True,\n",
    "                          kernel_initializer=initializers.RandomNormal(0,0.5),#kernel_initializer='random_normal',\n",
    "                          bias_initializer=initializers.RandomNormal(0,0.5),\n",
    "                          name=str(i)+str(j))\n",
    "        layers = layers + [layer]"
   ]
  },
  {
   "cell_type": "code",
   "execution_count": 9,
   "metadata": {},
   "outputs": [],
   "source": [
    "# Implementing the outcoming of trading via neural networks\n",
    "# Inputs is the training set below, containing the price S0, \n",
    "# again we record the trading strategies on separate input variables 'tradeeval' to read them out easily later\n",
    "price = Input(shape=(m,))\n",
    "trade = Input(shape=(m,))\n",
    "tradeeval = Input(shape=(m,))\n",
    "wealth = Input(shape=(1,))\n",
    "inputs = [price]+[trade]+[tradeeval]+[wealth]\n",
    "\n",
    "if VASICEK: \n",
    "    r_0 = Input(shape=(1,))\n",
    "    inputs += [r_0]\n",
    "\n",
    "outputhelper=[]\n",
    "r_t = r_0\n",
    "for j in range(N):\n",
    "    #strategy = price\n",
    "    #strategyeval=tradeeval\n",
    "    \n",
    "    \n",
    "    incr = Input(shape=(m,))\n",
    "    if INSIDER: #giving the model insider information on the movement of the stocks at next timestep\n",
    "        flip = Input(shape=(m,))\n",
    "        insider = Lambda(lambda x: tf.math.sign(x))(incr)\n",
    "        insider = Multiply()([flip,insider]) #flip the information with proba = uncertainty\n",
    "        strategy = Lambda(lambda x: tf.concat(x,axis=1))([price,insider])\n",
    "        strategyeval = Lambda(lambda x: tf.concat(x,axis=1))([tradeeval,insider])   \n",
    "    else:\n",
    "        strategy = Lambda(lambda x: tf.concat(x,axis=1))(price)\n",
    "        strategyeval = Lambda(lambda x: tf.concat(x,axis=1))(tradeeval)  \n",
    "    \n",
    "    for k in range(d):\n",
    "        strategy= layers[k+(j)*d](strategy) # strategy at j is the alpha at j \n",
    "        strategyeval=layers[k+(j)*d](strategyeval)\n",
    "        \n",
    "    #implement strategy dependent interest\n",
    "    if not VASICEK:\n",
    "        helper0a = Lambda(lambda x : K.sum(x,axis=1,keepdims=True))(strategy) #sum over all alphas\n",
    "        helper0b = Lambda(lambda x: K.less(1.0,x))(helper0a) #check if the sum of alphas is larger than 1\n",
    "        helper0b = Lambda(lambda x: tf.cast(x,tf.float32))(helper0b)\n",
    "        r_t = Lambda(lambda x: (mu.mean()-r)*(helper0a-1)*x+r)(helper0b) #adapt interest rate\n",
    "        if not VAR_RATE: r_t = Lambda(lambda x: 0*x+r)(r_t)\n",
    "    else:  #Vasicek model\n",
    "        r_incr = Input(shape=(1,))\n",
    "        vasi_helper = Lambda(lambda x: a*(b-x)*T/N)(r_t)\n",
    "        r_t = Add()([r_t,vasi_helper,r_incr])\n",
    "      \n",
    "    #incr = Input(shape=(m,))\n",
    "    logprice= Lambda(lambda x : K.log(x))(price)\n",
    "    logprice = Add()([logprice, incr])\n",
    "    pricenew=Lambda(lambda x : K.exp(x))(logprice)\n",
    "    price=pricenew\n",
    "    logwealth= Lambda(lambda x : K.log(x))(wealth)    \n",
    "   \n",
    "    #logwealth= Lambda(lambda x : x+r*T/N)(logwealth) # <---- r value\n",
    "    helperR = Lambda(lambda x : x*T/N)(r_t)\n",
    "    logwealth = Add()([helperR,logwealth])\n",
    "  \n",
    "    helper1 = Multiply()([strategy, incr])\n",
    "    helper1 = Lambda(lambda x : K.sum(x,axis=1))(helper1)\n",
    "    logwealth = Add()([logwealth, helper1])\n",
    "    if m == 1:\n",
    "        helper2 = Multiply()([strategy, strategy])   \n",
    "        #helper2 = Lambda(lambda x : K.sum(x,axis=1))(helper2)\n",
    "        helper3 = Lambda(lambda x : x*sigma**2/2*T/N)(helper2)\n",
    "        helper3 = Lambda(lambda x: K.sum(x,axis=1))(helper3)\n",
    "        logwealth = Subtract()([logwealth, helper3])\n",
    "       \n",
    "    helper4 = Lambda(lambda x: K.sum(x,axis=1))(strategy)\n",
    "    #helper4 = Lambda(lambda x : x*r*T/N)(helper4) # <----- r value\n",
    "    helper4 = Multiply()([helper4,helperR])\n",
    "    \n",
    "    logwealth = Subtract()([logwealth, helper4])\n",
    "       \n",
    "\n",
    "    sigma_strat = Lambda(lambda x: sigma*x)(strategy) #Multiply the alphas by the sigmas\n",
    "    rho_temp =K.constant(rho,dtype='float32') #Cast correlation matrix into layer\n",
    "    #helper5 = Lambda(lambda x: tf.einsum('ki,ij,jk->k',x[0],x[1],x[2]))([sigma_strat,rho_temp,K.transpose(sigma_strat)])\n",
    "    if m>1 :\n",
    "        helper5 = Lambda(lambda x: K.dot(x,rho_temp))(sigma_strat)\n",
    "        helper5 = Lambda(lambda x: K.dot(x,K.transpose(sigma_strat)))(helper5) #Compute the matrix term\n",
    "        helper5 = Lambda(lambda x: tf.linalg.diag_part(x))(helper5)\n",
    "        helper5 = Lambda(lambda x : 0.5*x*T/N)(helper5)\n",
    "\n",
    "        logwealth = Subtract()([logwealth, helper5])\n",
    "        \n",
    "    \n",
    "    wealthnew=Lambda(lambda x : K.exp(x))(logwealth)# creating the wealth at time j+1\n",
    "    \n",
    "    inputs = inputs + [incr]\n",
    "    if VASICEK : inputs +=[r_incr]\n",
    "    if INSIDER: inputs +=  [flip]\n",
    "    \n",
    "       \n",
    "    outputhelper = outputhelper + [r_t] +[strategyeval] # here we collect the strategies    \n",
    "    wealth=wealthnew\n",
    "    #print(K.int_shape(logwealth))\n",
    "outputs = wealth\n",
    "\n",
    "outputs = [outputs] + outputhelper\n",
    "\n",
    "outputs = Concatenate()(outputs)\n",
    "\n",
    "model_MertonD = Model(inputs=inputs, outputs=outputs)"
   ]
  },
  {
   "cell_type": "code",
   "execution_count": 10,
   "metadata": {},
   "outputs": [],
   "source": [
    "Ktrain = 10**5\n",
    "initialprice = S0\n",
    "initialwealth = X0\n",
    "\n",
    "#Generate correlated price processes\n",
    "\n",
    "from scipy.linalg import cholesky\n",
    "\n",
    "uncorr = [np.random.normal(0,np.sqrt(T)/np.sqrt(N),(Ktrain,m)) for i in range(N)] #generate uncorrelated price processes\n",
    "\n",
    "if m >1:\n",
    "    corr = []\n",
    "    corr_inside = []\n",
    "    U= cholesky(rho)\n",
    "    #U = np.array([[1,-1],[0,0]])\n",
    "    for unc in uncorr:\n",
    "        corr.append(unc@U*sigma+mu*T/N)#Correlate the processes with the Cholesky decomposition of rho\n",
    "        if VASICEK: corr.append(r_sigma*np.random.normal(0,np.sqrt(T)/np.sqrt(N),(Ktrain,1)))\n",
    "        if INSIDER: corr.append(np.random.choice([-1,1],size=(Ktrain,m),p=[uncertainty,1-uncertainty]))\n",
    "        \n",
    "else:\n",
    "    corr = [np.random.normal(mu*T/N,sigma*np.sqrt(T)/np.sqrt(N),(Ktrain,m)) for i in range(N)]\n",
    "# xtrain consists of the price S0, \n",
    "#the initial hedging being 0, and dummy variables hedgeeval where the strategies are evaluated, \n",
    "#the initial wealth and the increments of the log price process     \n",
    "\n",
    "if VASICEK:\n",
    "    xtrain = ([np.ones((Ktrain,1))@initialprice] +\n",
    "              [np.zeros((Ktrain,m))]+\n",
    "              [1*np.ones((Ktrain,m))] +\n",
    "              [initialwealth*np.ones((Ktrain,1))] +\n",
    "              [r*np.ones((Ktrain,1))]\n",
    "              + corr)\n",
    "else:\n",
    "    xtrain = ([np.ones((Ktrain,1))@initialprice] +\n",
    "              [np.zeros((Ktrain,m))]+\n",
    "              [1*np.ones((Ktrain,m))] +\n",
    "              [initialwealth*np.ones((Ktrain,1))] + corr)\n",
    "\n",
    "ytrain=np.zeros((Ktrain,1+N))"
   ]
  },
  {
   "cell_type": "code",
   "execution_count": 56,
   "metadata": {},
   "outputs": [],
   "source": [
    "#Mean-Variance optimisation\n",
    "\n",
    "cov = np.diag(sigma)@rho@np.diag(sigma)\n",
    "r_vec = r*np.ones(m)\n",
    "\n",
    "# p = 0.051 #Required return - risk factor\n",
    "# premium = (mu-r_vec).reshape(m,)\n",
    "# lambd = (p-r)/np.einsum('i,ij,j',premium,cov,premium)\n",
    "# w_opt = np.array(lambd*np.matrix(cov)**(-1)@premium)\n",
    "\n",
    "q=0.7\n",
    "w_opt = np.array(np.matrix(cov)**(-1)@(q*mu-r_vec).reshape(m,))\n",
    "\n",
    "print(w_opt)\n",
    "\n",
    "#Compute final wealth:\n",
    "wealth = initialwealth*np.ones((Ktrain,1))\n",
    "s_t = np.ones((Ktrain,1))@initialprice\n",
    "logS = np.log(s_t)\n",
    "logX = np.log(np.ones([Ktrain,1]))\n",
    "for incr in corr:\n",
    "    logS += incr\n",
    "    logX += incr@w_opt.T + (1-w_opt.sum())*r*T/N - 0.5*w_opt@cov@w_opt.T*T/N\n",
    "#print(np.exp(logX))\n",
    "print(np.exp(logX).mean())\n",
    "print(np.exp(logX).std())"
   ]
  },
  {
   "cell_type": "code",
   "execution_count": 6,
   "metadata": {},
   "outputs": [],
   "source": [
    "def custom_loss(y_true,y_pred):\n",
    "    z = - K.log(y_pred[:,0])#-((y_pred[:,0]**gamma-1)/gamma\n",
    "    z=K.mean(z)\n",
    "    return z\n",
    "#def custom_loss(y_true,y_pred):\n",
    "#    z = K.exp(- y_pred[:,0]*ra)#\n",
    "#    z=K.mean(z)\n",
    "#    return z"
   ]
  },
  {
   "cell_type": "code",
   "execution_count": 11,
   "metadata": {},
   "outputs": [],
   "source": [
    "from tensorflow.keras import optimizers\n",
    "\n",
    "adam=optimizers.Adam(lr=0.01)\n",
    "\n",
    "model_MertonD.compile(optimizer='adam',loss=custom_loss)#,experimental_run_tf_function=False)"
   ]
  },
  {
   "cell_type": "code",
   "execution_count": 12,
   "metadata": {},
   "outputs": [
    {
     "name": "stdout",
     "output_type": "stream",
     "text": [
      "Epoch 1/1\n",
      "100000/100000 [==============================] - 33s 333us/step - loss: -0.2339\n"
     ]
    }
   ],
   "source": [
    "for i in range(1):\n",
    "    model_MertonD.fit(x=xtrain,y=ytrain, epochs=1,verbose=True,batch_size=100)"
   ]
  },
  {
   "cell_type": "code",
   "execution_count": 13,
   "metadata": {},
   "outputs": [
    {
     "name": "stdout",
     "output_type": "stream",
     "text": [
      "-0.24218534\n"
     ]
    }
   ],
   "source": [
    "y_pred = model_MertonD.predict(xtrain)\n",
    "print(np.mean(-np.log(y_pred[:,0])))"
   ]
  },
  {
   "cell_type": "code",
   "execution_count": 20,
   "metadata": {},
   "outputs": [
    {
     "name": "stdout",
     "output_type": "stream",
     "text": [
      "[0.9789995  0.52521586 0.7757853  ... 3.8276336  5.426083   1.9134591 ]\n",
      "[0.04885995 0.05178663 0.04747962 ... 0.04116333 0.04886698 0.04162113]\n",
      "[0.2053518  0.2053518  0.2053518  ... 0.2053518  0.20535126 0.20535126]\n",
      "[-2.6963046 -2.6963046 -2.6963046 ... -2.6963046 -2.6963043 -2.6963043]\n"
     ]
    }
   ],
   "source": [
    "for i in range(m+2):\n",
    "    print(y_pred[:,i])"
   ]
  },
  {
   "cell_type": "code",
   "execution_count": 48,
   "metadata": {},
   "outputs": [
    {
     "data": {
      "image/png": "[encoded data removed]",
      "text/plain": [
       "<Figure size 432x288 with 1 Axes>"
      ]
     },
     "metadata": {
      "needs_background": "light"
     },
     "output_type": "display_data"
    },
    {
     "name": "stdout",
     "output_type": "stream",
     "text": [
      "Mean wealth for portfolio with 3 assets: 2.6125715\n",
      "STD of wealth for portfolio with 3 assets: 2.959329\n"
     ]
    }
   ],
   "source": [
    "import matplotlib.pyplot as plt\n",
    "plt.hist(y_pred[:,0],bins = 25,range=(0,10))\n",
    "plt.xlabel('Final wealth')\n",
    "plt.ylabel('Frequency')\n",
    "plt.title('Portfolio with ' +str(m) + ' assets')\n",
    "plt.show()\n",
    "print('Mean wealth for portfolio with',m,'assets:',np.mean(y_pred[:,0]))\n",
    "print('STD of wealth for portfolio with',m,'assets:',np.std(y_pred[:,0]))"
   ]
  },
  {
   "cell_type": "code",
   "execution_count": null,
   "metadata": {},
   "outputs": [],
   "source": [
    "for i in range(1):\n",
    "    plt.plot(S[:,i])\n",
    "plt.show()"
   ]
  },
  {
   "cell_type": "code",
   "execution_count": null,
   "metadata": {},
   "outputs": [],
   "source": [
    "plt.hist(X[N-1,:])\n",
    "plt.show()\n",
    "print(np.mean(X[N-1,:]))\n",
    "print(np.std(X[N-1,:]))"
   ]
  },
  {
   "cell_type": "code",
   "execution_count": null,
   "metadata": {},
   "outputs": [],
   "source": [
    "#k=10#Choose a number between 1 and N-1\n",
    "Ktest=60\n",
    "xtest = ([initialprice*np.ones((Ktest,m))] +\n",
    "          [np.zeros((Ktest,m))]+\n",
    "          [np.linspace(0.7,1.5,Ktest)] +#change this if you go to higher dimensions\n",
    "          [initialwealth*np.ones((Ktest,m))]+\n",
    "          [np.random.normal(mu*T/N,sigma*np.sqrt(T)/np.sqrt(N),(Ktest,m)) for i in range(N)])\n",
    "\n",
    "\n",
    "#Comparison of learned and true alpha\n",
    "s=np.linspace(0.7,1.5,Ktest)\n",
    "\n",
    "for k in range(1,N):\n",
    "    truestrat=(mu-r)/(sigma**2*(1-gamma))*np.ones(Ktest)\n",
    "    learnedstrat=model_Merton.predict(xtest)[:,k]\n",
    "    plt.plot(s,learnedstrat,s,truestrat)\n",
    "plt.show()\n",
    "print((mu-r)/(sigma**2*(1-gamma)))"
   ]
  },
  {
   "cell_type": "code",
   "execution_count": null,
   "metadata": {},
   "outputs": [],
   "source": []
  },
  {
   "cell_type": "code",
   "execution_count": null,
   "metadata": {},
   "outputs": [],
   "source": []
  }
 ],
 "metadata": {
  "kernelspec": {
   "display_name": "Python 3",
   "language": "python",
   "name": "python3"
  },
  "language_info": {
   "codemirror_mode": {
    "name": "ipython",
    "version": 3
   },
   "file_extension": ".py",
   "mimetype": "text/x-python",
   "name": "python",
   "nbconvert_exporter": "python",
   "pygments_lexer": "ipython3",
   "version": "3.7.5"
  },
  "varInspector": {
   "cols": {
    "lenName": 16,
    "lenType": 16,
    "lenVar": 40
   },
   "kernels_config": {
    "python": {
     "delete_cmd_postfix": "",
     "delete_cmd_prefix": "del ",
     "library": "var_list.py",
     "varRefreshCmd": "print(var_dic_list())"
    },
    "r": {
     "delete_cmd_postfix": ") ",
     "delete_cmd_prefix": "rm(",
     "library": "var_list.r",
     "varRefreshCmd": "cat(var_dic_list()) "
    }
   },
   "types_to_exclude": [
    "module",
    "function",
    "builtin_function_or_method",
    "instance",
    "_Feature"
   ],
   "window_display": false
  }
 },
 "nbformat": 4,
 "nbformat_minor": 4
}
