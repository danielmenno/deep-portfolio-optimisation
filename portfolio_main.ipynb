{
 "cells": [
  {
   "cell_type": "markdown",
   "metadata": {},
   "source": [
    "# Deep portfolio Optimization\n",
    "\n",
    "This commented code contains the model for multiple correlated stocks, based on the initial code for one stock written by Prof. Teichmann. In here you will find the model, the code for generating correlated stocks, the code for strategy dependent interest rates, the code for insider trading. If you wish to see the code for the Vasicek model or the Mean-variance Portfolio Optimisation, please refer yourself to Vasicek notebook (also in the github)."
   ]
  },
  {
   "cell_type": "code",
   "execution_count": 1,
   "metadata": {},
   "outputs": [
    {
     "name": "stderr",
     "output_type": "stream",
     "text": [
      "Using TensorFlow backend.\n"
     ]
    }
   ],
   "source": [
    "import numpy as np\n",
    "import tensorflow as tf\n",
    "\n",
    "from keras.models import Sequential\n",
    "from keras.layers import Input, Dense, Conv2D, Concatenate, Dropout, Subtract, \\\n",
    "                        Flatten, MaxPooling2D, Multiply, Lambda, Add, Dot\n",
    "from keras.backend import constant\n",
    "from keras import optimizers\n",
    "\n",
    "from keras.models import Model\n",
    "from keras.layers import Input\n",
    "from keras import initializers\n",
    "from keras.constraints import max_norm\n",
    "import keras.backend as K\n",
    "\n",
    "import matplotlib.pyplot as plt\n"
   ]
  },
  {
   "cell_type": "code",
   "execution_count": 2,
   "metadata": {},
   "outputs": [],
   "source": [
    "#Global parameters\n",
    "\n",
    "N=30 # time disrectization\n",
    "S0=1 # initial value of the asset\n",
    "X0=1  # initial wealth\n",
    "T=1 # maturity\n",
    "sigma=0.2 # volatility in Black Scholes\n",
    "mu=0.1 #drift in Black Scholes\n",
    "r=0.0 #interest rate\n",
    "gamma=0 #risk aversion parameter\n",
    "uncertainty = 0.5 #uncertainty in insider information (u = 0.5 means no insider information)\n"
   ]
  },
  {
   "cell_type": "code",
   "execution_count": 3,
   "metadata": {},
   "outputs": [
    {
     "data": {
      "image/png": "[encoded data removed]",
      "text/plain": [
       "<Figure size 1080x360 with 3 Axes>"
      ]
     },
     "metadata": {
      "needs_background": "light"
     },
     "output_type": "display_data"
    }
   ],
   "source": [
    "### This cell generates a random correlation matrix\n",
    "### The plots show the distribution of the correlation coefficients\n",
    "### This distribution can be toggled by changing the 'a' parameter\n",
    "\n",
    "import numpy as np\n",
    "from random import choice\n",
    "import matplotlib.pyplot as plt\n",
    "from scipy.linalg import cholesky\n",
    "from scipy.linalg import lu\n",
    "\n",
    "n = 2 #size of correlation matrix = number of stocks\n",
    "a = 0 #parameter for the correlation coefficients distribution\n",
    "\n",
    "A = np.matrix([np.random.randn(n) + np.random.randn(1)*a for i in range(n)])\n",
    "A = A*np.transpose(A)\n",
    "D_half = np.diag(np.diag(A)**(-0.5))\n",
    "C = D_half*A*D_half\n",
    "\n",
    "vals = list(np.array(C.ravel())[0])\n",
    "\n",
    "fig, axes = plt.subplots(nrows=1, ncols=2, figsize=(15, 5))\n",
    "axes[0].hist(vals, range=(-1,1))\n",
    "img = axes[1].imshow(C, interpolation=None,cmap = 'inferno')\n",
    "plt.colorbar(img, ax=axes[1])\n",
    "plt.show()"
   ]
  },
  {
   "cell_type": "code",
   "execution_count": 4,
   "metadata": {},
   "outputs": [
    {
     "name": "stdout",
     "output_type": "stream",
     "text": [
      "[[1. 0. 0. 0. 0. 0. 0. 0. 0. 0. 0. 0. 0. 0. 0. 0. 0. 0. 0. 0.]\n",
      " [0. 1. 0. 0. 0. 0. 0. 0. 0. 0. 0. 0. 0. 0. 0. 0. 0. 0. 0. 0.]\n",
      " [0. 0. 1. 0. 0. 0. 0. 0. 0. 0. 0. 0. 0. 0. 0. 0. 0. 0. 0. 0.]\n",
      " [0. 0. 0. 1. 0. 0. 0. 0. 0. 0. 0. 0. 0. 0. 0. 0. 0. 0. 0. 0.]\n",
      " [0. 0. 0. 0. 1. 0. 0. 0. 0. 0. 0. 0. 0. 0. 0. 0. 0. 0. 0. 0.]\n",
      " [0. 0. 0. 0. 0. 1. 0. 0. 0. 0. 0. 0. 0. 0. 0. 0. 0. 0. 0. 0.]\n",
      " [0. 0. 0. 0. 0. 0. 1. 0. 0. 0. 0. 0. 0. 0. 0. 0. 0. 0. 0. 0.]\n",
      " [0. 0. 0. 0. 0. 0. 0. 1. 0. 0. 0. 0. 0. 0. 0. 0. 0. 0. 0. 0.]\n",
      " [0. 0. 0. 0. 0. 0. 0. 0. 1. 0. 0. 0. 0. 0. 0. 0. 0. 0. 0. 0.]\n",
      " [0. 0. 0. 0. 0. 0. 0. 0. 0. 1. 0. 0. 0. 0. 0. 0. 0. 0. 0. 0.]\n",
      " [0. 0. 0. 0. 0. 0. 0. 0. 0. 0. 1. 0. 0. 0. 0. 0. 0. 0. 0. 0.]\n",
      " [0. 0. 0. 0. 0. 0. 0. 0. 0. 0. 0. 1. 0. 0. 0. 0. 0. 0. 0. 0.]\n",
      " [0. 0. 0. 0. 0. 0. 0. 0. 0. 0. 0. 0. 1. 0. 0. 0. 0. 0. 0. 0.]\n",
      " [0. 0. 0. 0. 0. 0. 0. 0. 0. 0. 0. 0. 0. 1. 0. 0. 0. 0. 0. 0.]\n",
      " [0. 0. 0. 0. 0. 0. 0. 0. 0. 0. 0. 0. 0. 0. 1. 0. 0. 0. 0. 0.]\n",
      " [0. 0. 0. 0. 0. 0. 0. 0. 0. 0. 0. 0. 0. 0. 0. 1. 0. 0. 0. 0.]\n",
      " [0. 0. 0. 0. 0. 0. 0. 0. 0. 0. 0. 0. 0. 0. 0. 0. 1. 0. 0. 0.]\n",
      " [0. 0. 0. 0. 0. 0. 0. 0. 0. 0. 0. 0. 0. 0. 0. 0. 0. 1. 0. 0.]\n",
      " [0. 0. 0. 0. 0. 0. 0. 0. 0. 0. 0. 0. 0. 0. 0. 0. 0. 0. 1. 0.]\n",
      " [0. 0. 0. 0. 0. 0. 0. 0. 0. 0. 0. 0. 0. 0. 0. 0. 0. 0. 0. 1.]]\n"
     ]
    }
   ],
   "source": [
    "#Generate a specific desired correlation matrix\n",
    "#If all stocks are fully correlated or anti-correlated the matrix is no longer positive definite and so\n",
    "#the Cholesky decomposition cannot be found, so you must define it manually\n",
    "#In all other cases the Cholesky function returns the appropriate decomposition\n",
    "\n",
    "m = 20 #number of stocks = size of matrix\n",
    "rho = 0 #use this in the case m=2\n",
    "# C = np.array([[1,rho],[rho,1]]) #use this for m=2\n",
    "C = np.identity(m) #use this for m>2\n",
    "R = cholesky(C)#np.array([[1,-1],[0,0]])#    #use the fct when possible, otherwise define manually\n",
    "sigma_vec = np.ones(m)*sigma  #vector of all the volatilities for the stocks (doesn't have to be the same for all)\n",
    "mu_vec = np.ones(m)*mu #vector of all drifts\n",
    "print(R)"
   ]
  },
  {
   "cell_type": "code",
   "execution_count": 5,
   "metadata": {},
   "outputs": [],
   "source": [
    "### Here we define the neural networks; one NN for each time step ###\n",
    "\n",
    "# m = 2 # dimension of price; defined in cell above\n",
    "d = 3 # number of layers in strategy\n",
    "n = 32  # nodes in the all but the last layer\n",
    "\n",
    "# architecture is the same for all networks\n",
    "layers = []\n",
    "for j in range(N):\n",
    "    for i in range(d):\n",
    "        if i < d-1:\n",
    "            nodes = n\n",
    "            layer = Dense(nodes, activation='tanh',trainable=True,\n",
    "                      kernel_initializer=initializers.RandomNormal(0,0.5),#kernel_initializer='random_normal',\n",
    "                      bias_initializer=initializers.RandomNormal(0,0.5),\n",
    "                      name=str(i)+str(j))\n",
    "        else:\n",
    "            nodes = m\n",
    "            layer = Dense(nodes, activation='linear', trainable=True,\n",
    "                          kernel_initializer=initializers.RandomNormal(0,0.5),#kernel_initializer='random_normal',\n",
    "                          bias_initializer=initializers.RandomNormal(0,0.5),\n",
    "                          name=str(i)+str(j))\n",
    "        layers = layers + [layer]"
   ]
  },
  {
   "cell_type": "code",
   "execution_count": 6,
   "metadata": {},
   "outputs": [],
   "source": [
    "### Here we implement the evolution in wealth step by step ###\n",
    "#inputs to our model#\n",
    "price = Input(shape=(m,))  #initial value of stocks\n",
    "tradeeval = Input(shape=(m,))   #this parameter will keep track of the strategies so that we can observe them later\n",
    "wealth = Input(shape=(1,))   #initial wealth\n",
    "\n",
    "inputs = [price]+[tradeeval]+[wealth]\n",
    "outputhelper=[] #use these to output information you might want to analyse later\n",
    "outputhelper2 = [] #These outputs (like tradeeval) are not strictly necessary, the only required output is the final wealth\n",
    "\n",
    "\n",
    "#Implementation#\n",
    "for j in range(N):\n",
    "    incr = Input(shape=(m,)) #another input: at each time step we are given the next increment in price\n",
    "    \n",
    "    #use these if no insider trading desired (or just use uncertainty = 0.5)\n",
    "#     strategy = price\n",
    "#     strategyeval=tradeeval\n",
    "\n",
    "    #giving the model insider information on the movement of the stocks at next timestep\n",
    "    flip = Input(shape=(m,))  #another input: determines whether to give true or false insider info\n",
    "    insider = Lambda(lambda x: tf.math.sign(x))(incr) #take the sign of next increment\n",
    "    insider = Multiply()([flip,insider]) #flip the information with proba = uncertainty\n",
    "    strategy = Lambda(lambda x: tf.concat(x,axis=1))([price,insider]) #vector of current price and insider info on next price\n",
    "    strategyeval = Lambda(lambda x: tf.concat(x,axis=1))([tradeeval,insider]) #to keep track of strategies\n",
    "    \n",
    "    #the NN gives us its strategy based on the current price\n",
    "    for k in range(d):\n",
    "        strategy= layers[k+(j)*d](strategy) # strategy at j is the alpha at j \n",
    "        strategyeval=layers[k+(j)*d](strategyeval)\n",
    "        \n",
    "    #implement an interest rate dependent on strategy    \n",
    "    helper0a = Lambda(lambda x : K.sum(x,axis=1,keepdims=True))(strategy) #sum over the strategies for all the stocks\n",
    "    helper0b = Lambda(lambda x: K.less(1.0,x))(helper0a) #is the sum lesser or greater than 1\n",
    "    helper0b = Lambda(lambda x: tf.cast(x,tf.float32))(helper0b)\n",
    "    r_t = Lambda(lambda x: x*(mu_vec.mean()-r)*(helper0a - 1)+r)(helper0b) #fct for computing interest rate\n",
    "\n",
    "#     r_t = r   #use this if no strategy dependent interest rate is desired (you also have to then modify other parts of the code)\n",
    "        \n",
    "    #implement price increment\n",
    "    temp = Lambda(lambda x : x-sigma_vec**2/2*T/N)(incr)\n",
    "    logprice= Lambda(lambda x : K.log(x))(price)\n",
    "    logprice = Add()([logprice, temp])\n",
    "    pricenew=Lambda(lambda x : K.exp(x))(logprice)\n",
    "    price=pricenew    \n",
    "    \n",
    "    #implement most terms of logwealth\n",
    "    logwealth = Lambda(lambda x : K.log(x))(wealth)\n",
    "    helperR = Lambda(lambda x : x*T/N)(r_t)\n",
    "    logwealth = Add()([helperR,logwealth])\n",
    "    helper1 = Multiply()([strategy, incr])\n",
    "    helper1 = Lambda(lambda x : K.sum(x,axis=1))(helper1)\n",
    "    logwealth = Add()([logwealth, helper1])\n",
    "    helper2 = Lambda(lambda x : K.sum(x,axis=1))(strategy)\n",
    "    helper2b = Multiply()([r_t, helper2])\n",
    "    helper2c = Lambda(lambda x : x*T/N)(helper2b)\n",
    "    logwealth = Subtract()([logwealth, helper2c])\n",
    "    \n",
    "    #implement the last rho cross terms\n",
    "    helper3 = Lambda(lambda x : sigma_vec*x)(strategy) #(none,m) matrix of volatilities*strategies\n",
    "    helper3t = Lambda(lambda x : K.transpose(x))(helper3) #(m,none)\n",
    "    \n",
    "    temp_corr = K.constant(C) #(m,m) correlation matrix\n",
    "    \n",
    "    helper4 = Lambda(lambda x : K.dot(x,temp_corr))(helper3) #(none,m)*(m,m) = (none,m)\n",
    "    helper4 = Lambda(lambda x: tf.einsum('ij,ji->i',x[0], x[1]))([helper4,helper3t]) #(none,m)*(m,none) = (none,none)\n",
    "    #take only the diag of the (none,none) matrix = (none,)\n",
    "    \n",
    "    helper5 = Lambda(lambda x : 1/2*x*T/N)(helper4)\n",
    "    logwealth = Subtract()([logwealth, helper5])\n",
    "    \n",
    "    \n",
    "    wealthnew=Lambda(lambda x : K.exp(x))(logwealth)# creating the wealth at time j+1\n",
    "    inputs = inputs + [incr] + [flip] #Note the particular order in which the inputs must be given\n",
    "    outputhelper = outputhelper + [r_t] + [strategy] # here we collect the interest rates and the strategies\n",
    "    wealth=wealthnew\n",
    "\n",
    "outputs = wealth\n",
    "outputs = [outputs] + outputhelper\n",
    "outputs = Concatenate()(outputs)\n",
    "\n",
    "model_Merton_n = Model(inputs=inputs, outputs=outputs)"
   ]
  },
  {
   "cell_type": "code",
   "execution_count": 7,
   "metadata": {},
   "outputs": [
    {
     "name": "stdout",
     "output_type": "stream",
     "text": [
      "(3, 631)\n"
     ]
    }
   ],
   "source": [
    "### Verify that the model works and outputs what you want it to\n",
    "\n",
    "Ktrain = 3  #number of data points\n",
    "initialprice = S0\n",
    "initialwealth = X0\n",
    "# m = 2\n",
    "\n",
    "\n",
    "#the following lines show how to implement correlated stock prices and random 'flips' for the insider trading\n",
    "#Note again the particular ordering of the inputs\n",
    "uncorr = [np.random.normal(0,np.sqrt(T)/np.sqrt(N),(Ktrain,m)) for i in range(N)] #uncorrelated Brownian Motions\n",
    "corr = []\n",
    "for unc in uncorr:\n",
    "    corr.append(unc@R*sigma_vec+mu_vec*T/N) #correlated stocks\n",
    "    corr.append(np.random.choice([-1,1],size=(Ktrain,m),p=[uncertainty,1-uncertainty])) #random flips\n",
    "    \n",
    "#inputs to our model\n",
    "xtrain = ([initialprice*np.ones((Ktrain,m))] +\n",
    "          [np.ones((Ktrain,m))] +\n",
    "          [initialwealth*np.ones((Ktrain,1))] +\n",
    "          corr)\n",
    "\n",
    "#outputs of the model\n",
    "ytrain = model_Merton_n.predict(xtrain)\n",
    "print(ytrain.shape)"
   ]
  },
  {
   "cell_type": "code",
   "execution_count": 8,
   "metadata": {},
   "outputs": [],
   "source": [
    "###Generate data points; inputs are generated stock prices, outputs are simply 0\n",
    "\n",
    "Ktrain = 10**5 #number of data points\n",
    "initialprice = S0\n",
    "initialwealth = X0\n",
    "\n",
    "# m = 2\n",
    "uncorr = [np.random.normal(0,np.sqrt(T)/np.sqrt(N),(Ktrain,m)) for i in range(N)]\n",
    "corr = []\n",
    "for unc in uncorr:\n",
    "    corr.append(unc@R*sigma+mu*T/N)\n",
    "    corr.append(np.random.choice([-1,1],size=(Ktrain,m),p=[uncertainty,1-uncertainty]))\n",
    "\n",
    "xtrain = ([initialprice*np.ones((Ktrain,m))] +\n",
    "          [1*np.ones((Ktrain,m))] +\n",
    "          [initialwealth*np.ones((Ktrain,1))] +\n",
    "                 corr)\n",
    "\n",
    "ytrain=np.zeros((Ktrain,1+N))"
   ]
  },
  {
   "cell_type": "code",
   "execution_count": 9,
   "metadata": {},
   "outputs": [],
   "source": [
    "###Loss function defined as -1*utility fct\n",
    "\n",
    "def custom_loss(y_true,y_pred):\n",
    "    z = - K.log(y_pred[:,0])\n",
    "#     z = -(y_pred[:,0]**gamma-1)/gamma   #use this if gamma != 0\n",
    "    z=K.mean(z)\n",
    "    return z\n"
   ]
  },
  {
   "cell_type": "code",
   "execution_count": 10,
   "metadata": {},
   "outputs": [],
   "source": [
    "###Compile the model\n",
    "\n",
    "from keras import optimizers\n",
    "\n",
    "adam=optimizers.Adam(lr=0.01)\n",
    "\n",
    "model_Merton_n.compile(optimizer='adam',loss=custom_loss)"
   ]
  },
  {
   "cell_type": "code",
   "execution_count": 11,
   "metadata": {},
   "outputs": [
    {
     "name": "stdout",
     "output_type": "stream",
     "text": [
      "Epoch 1/2\n",
      "100000/100000 [==============================] - 26s 260us/step - loss: 0.6832\n",
      "Epoch 2/2\n",
      "100000/100000 [==============================] - 17s 171us/step - loss: -0.0589\n"
     ]
    }
   ],
   "source": [
    "###Train the model\n",
    "\n",
    "import matplotlib.pyplot as plt\n",
    "\n",
    "for i in range(1):\n",
    "    model_Merton_n.fit(x=xtrain,y=ytrain, epochs=2,verbose=True,batch_size=100)"
   ]
  },
  {
   "cell_type": "code",
   "execution_count": 12,
   "metadata": {},
   "outputs": [],
   "source": [
    "#Generate test data\n",
    "\n",
    "Ktrain = 10**5\n",
    "initialprice = S0\n",
    "initialwealth = X0\n",
    "\n",
    "# m = 2\n",
    "uncorr = [np.random.normal(0,np.sqrt(T)/np.sqrt(N),(Ktrain,m)) for i in range(N)]\n",
    "corr = []\n",
    "for unc in uncorr:\n",
    "    corr.append(unc@R*sigma+mu*T/N)\n",
    "    corr.append(np.random.choice([-1,1],size=(Ktrain,m),p=[uncertainty,1-uncertainty]))\n",
    "\n",
    "xtrain = ([initialprice*np.ones((Ktrain,m))] +\n",
    "          [1*np.ones((Ktrain,m))] +\n",
    "          [initialwealth*np.ones((Ktrain,1))] +\n",
    "                 corr)\n",
    "\n",
    "y_pred = model_Merton_n.predict(xtrain)"
   ]
  },
  {
   "cell_type": "code",
   "execution_count": 13,
   "metadata": {},
   "outputs": [
    {
     "name": "stdout",
     "output_type": "stream",
     "text": [
      "y_pred shape:       (100000, 631)\n",
      "final wealth:       1.0384978\n",
      "r:                  [0.04041171, -0.19696681, 0.2176317, -0.12346284, -0.31938705]\n",
      "alpha for stock 1:  [0.28358322, 0.08934072, 0.3998532, 0.29542798, -0.13690203]\n",
      "alpha for stock 2:  [-0.123693705, 0.15868105, 0.38716632, -0.21150565, 0.18861252]\n",
      "stock 1 increment:  [-0.01713573  0.02100632 -0.01580716  0.01906535  0.05707356]\n",
      "stock 2 increment:  [-0.02366115 -0.02803478 -0.00826334  0.00963337  0.00103368]\n",
      "number of final wealths under 1:  39072\n"
     ]
    }
   ],
   "source": [
    "###This cell gives info on a few select trajectories (might not work if you change too many parameters, outputs etc...)\n",
    "#Notably you can compare strategies with price increments in the case of insider trading\n",
    "#Also can see how many times the model has a final wealth lower than the initial wealth\n",
    "\n",
    "k = 0\n",
    "info = y_pred[k]\n",
    "print('y_pred shape:      ', y_pred.shape)\n",
    "print('final wealth:      ', info[0])\n",
    "interest = list(info[1+i*3] for i in range(30))\n",
    "print('r:                 ', interest[0:5])\n",
    "alpha1 = list(info[2+i*3] for i in range(30))\n",
    "print('alpha for stock 1: ', alpha1[0:5])\n",
    "alpha2 = list(info[3+i*3] for i in range(30))\n",
    "print('alpha for stock 2: ', alpha2[0:5])\n",
    "temp = np.array(xtrain[3:13:2])\n",
    "print('stock 1 increment: ', temp[0:5,k,0])\n",
    "print('stock 2 increment: ', temp[0:5,k,1])\n",
    "\n",
    "#final wealth under 1\n",
    "temp = y_pred[:,0]\n",
    "temp = temp[temp<1]\n",
    "print('number of final wealths under 1: ',len(temp))"
   ]
  },
  {
   "cell_type": "code",
   "execution_count": 19,
   "metadata": {},
   "outputs": [
    {
     "data": {
      "image/png": "[encoded data removed]",
      "text/plain": [
       "<Figure size 576x288 with 1 Axes>"
      ]
     },
     "metadata": {
      "needs_background": "light"
     },
     "output_type": "display_data"
    },
    {
     "name": "stdout",
     "output_type": "stream",
     "text": [
      "avg final wealth:  1.1306671\n",
      "standard deviation of final wealth:  0.3379515\n"
     ]
    }
   ],
   "source": [
    "###Plot histogram of final wealths\n",
    "\n",
    "fig, axs = plt.subplots(nrows=1, ncols=1)\n",
    "\n",
    "axs.hist(y_pred[:,0], bins=20)\n",
    "axs.title.set_text('n=2 stocks')\n",
    "\n",
    "fig.set_size_inches(8, 4)\n",
    "plt.show()\n",
    "\n",
    "print('avg final wealth: ', np.mean(y_pred[:,0]))\n",
    "print('standard deviation of final wealth: ', np.std(y_pred[:,0]))"
   ]
  },
  {
   "cell_type": "code",
   "execution_count": 124,
   "metadata": {},
   "outputs": [
    {
     "data": {
      "image/png": "[encoded data removed]",
      "text/plain": [
       "<Figure size 720x432 with 4 Axes>"
      ]
     },
     "metadata": {
      "needs_background": "light"
     },
     "output_type": "display_data"
    }
   ],
   "source": [
    "###The following cells were used for plots for the final report and are not particularly relevant or interesting###\n",
    "\n",
    "\n",
    "x = [1 , 2 , 3 , 4 , 5 , 6 , 7 , 8 , 9 , 10 , 15 , 20]\n",
    "y1 = [1.29 , 1.66 , 2.07 , 2.73 , 3.46 , 4.46 , 5.84 , 7.38 , 9.51 , 12.2 , 43.5 , 150]\n",
    "y2 = [0.695 , 1.37 , 2.14 , 3.65 , 5.58 , 8.83 , 13.3 , 18.5 , 27.2 , 48.0 , 268 , 1464]\n",
    "\n",
    "SMALL_SIZE = 12\n",
    "MEDIUM_SIZE = 14\n",
    "BIGGER_SIZE = 28\n",
    "\n",
    "plt.rc('lines', linewidth=3)\n",
    "plt.rc('font', size=SMALL_SIZE)          # controls default text sizes\n",
    "plt.rc('axes', titlesize=SMALL_SIZE)     # fontsize of the axes title\n",
    "plt.rc('axes', labelsize=MEDIUM_SIZE)    # fontsize of the x and y labels\n",
    "plt.rc('xtick', labelsize=SMALL_SIZE)    # fontsize of the tick labels\n",
    "plt.rc('ytick', labelsize=SMALL_SIZE)    # fontsize of the tick labels\n",
    "plt.rc('legend', fontsize=SMALL_SIZE)    # legend fontsize\n",
    "plt.rc('figure', titlesize=MEDIUM_SIZE)  # fontsize of the figure title\n",
    "\n",
    "\n",
    "#plot the different fluxes\n",
    "fig, axs = plt.subplots(nrows=2, ncols=1)\n",
    "\n",
    "color = 'tab:blue'\n",
    "y1temp = [-10 if y<6 else y for y in y1]\n",
    "axs[0].plot(x,y1temp,color=color,label='avg final wealth')\n",
    "axs[1].plot(x,y1,color=color)\n",
    "axs[0].tick_params(axis='y', labelcolor=color)\n",
    "axs[1].tick_params(axis='y', labelcolor=color)\n",
    "\n",
    "  # instantiate a second axes that shares the same x-axis\n",
    "axs2 = [axs[0].twinx(), axs[1].twinx()]\n",
    "color = 'tab:red'\n",
    "y2temp = [-100 if y<15 else y for y in y2]        \n",
    "axs2[1].plot(x,y2,color=color,label = 'avg final std deviation')\n",
    "axs2[0].plot(x,y2temp,color=color)\n",
    "axs2[0].tick_params(axis='y', labelcolor=color)\n",
    "axs2[1].tick_params(axis='y', labelcolor=color)\n",
    "\n",
    "axs[0].set_ylim(7,150)  # outliers only\n",
    "axs[1].set_ylim(0,6)  # most of the data\n",
    "axs2[0].set_ylim(18,1500)  # outliers only\n",
    "axs2[1].set_ylim(0,15)  # most of the data\n",
    "\n",
    "# hide the spines between ax and ax2\n",
    "axs[0].spines['bottom'].set_visible(False)\n",
    "axs[1].spines['top'].set_visible(False)\n",
    "axs[0].xaxis.tick_top()\n",
    "axs[0].tick_params(top=0,labeltop=0)  # don't put tick labels at the top\n",
    "axs[1].xaxis.tick_bottom()\n",
    "axs2[0].spines['bottom'].set_visible(False)\n",
    "axs2[1].spines['top'].set_visible(False)\n",
    "axs2[0].xaxis.tick_top()\n",
    "axs2[0].tick_params(top=0,labeltop=0)  # don't put tick labels at the top\n",
    "axs2[1].xaxis.tick_bottom()\n",
    "\n",
    "# d = .015  # how big to make the diagonal lines in axes coordinates\n",
    "# # arguments to pass to plot, just so we don't keep repeating them\n",
    "# kwargs = dict(transform=axs[0].transAxes, color='k', clip_on=False)\n",
    "# axs[0].plot((-d, +d), (-d, +d), **kwargs)        # top-left diagonal\n",
    "# axs[0].plot((1 - d, 1 + d), (-d, +d), **kwargs)  # top-right diagonal\n",
    "\n",
    "# kwargs.update(transform=axs[1].transAxes)  # switch to the bottom axes\n",
    "# axs[1].plot((-d, +d), (1 - d, 1 + d), **kwargs)  # bottom-left diagonal\n",
    "# axs[1].plot((1 - d, 1 + d), (1 - d, 1 + d), **kwargs)  # bottom-right diagonal\n",
    "# kwargs = dict(transform=axs2[0].transAxes, color='k', clip_on=False)\n",
    "# axs2[0].plot((-d, +d), (-d, +d), **kwargs)        # top-left diagonal\n",
    "# axs2[0].plot((1 - d, 1 + d), (-d, +d), **kwargs)  # top-right diagonal\n",
    "\n",
    "# kwargs.update(transform=axs2[1].transAxes)  # switch to the bottom axes\n",
    "# axs2[1].plot((-d, +d), (1 - d, 1 + d), **kwargs)  # bottom-left diagonal\n",
    "# axs2[1].plot((1 - d, 1 + d), (1 - d, 1 + d), **kwargs)  # bottom-right diagonal\n",
    "\n",
    "fig.set_size_inches(10,6)\n",
    "fig.canvas.draw()\n",
    "locs = axs[0].get_yticks()\n",
    "labels = axs[0].get_yticklabels()\n",
    "locs[0] = 7\n",
    "labels[0] = '7'\n",
    "axs[0].set_yticks(locs)\n",
    "axs[0].set_yticklabels(labels)\n",
    "locs = axs2[0].get_yticks()\n",
    "labels = axs2[0].get_yticklabels()\n",
    "locs[0] = 18\n",
    "labels[0] = '18'\n",
    "axs2[0].set_yticks(locs)\n",
    "axs2[0].set_yticklabels(labels)\n",
    "\n",
    "\n",
    "# labels = [item.get_text() for item in axs[0].get_yticklabels()]\n",
    "# labels[-1] = 'infinity'\n",
    "# axs[0].set_yticklabels(labels)\n",
    "# labels2 = [item.get_text() for item in axs2[0].get_yticklabels()]\n",
    "# labels2[-1] = 'infinity'\n",
    "# axs2[0].set_yticklabels(labels2)\n",
    "\n",
    "axs[0].legend()\n",
    "axs2[1].legend()\n",
    "axs[1].set_xlabel(r'Number of stocks')\n",
    "\n",
    "plt.show()"
   ]
  },
  {
   "cell_type": "code",
   "execution_count": 144,
   "metadata": {},
   "outputs": [
    {
     "data": {
      "image/png": "[encoded data removed]",
      "text/plain": [
       "<Figure size 720x432 with 2 Axes>"
      ]
     },
     "metadata": {
      "needs_background": "light"
     },
     "output_type": "display_data"
    }
   ],
   "source": [
    "x = [1 , 2 , 3 , 4 , 5 , 6 , 7 , 8 , 9 , 10 , 15 , 20]\n",
    "y1 = [1.1241 , 1.1284 , 1.1297 , 1.1303 , 1.1309 , 1.1307 , 1.1304 , 1.1311 , 1.1316 , 1.1322 , 1.1324 , 1.1311]\n",
    "y2 = [0.2874 , 0.2261 , 0.2122 , 0.2048 , 0.1962 , 0.1950 , 0.1934 , 0.1983 , 0.2046 , 0.2038 , 0.2094 , 0.2443]\n",
    "\n",
    "fig, ax1 = plt.subplots()\n",
    "fig.set_size_inches(10,6)\n",
    "color = 'tab:red'\n",
    "ax1.set_xlabel(r'Number of independent stocks')\n",
    "ax1.set_ylabel('avg final wealth', color=color)\n",
    "ax1.plot(x, y1, color=color)\n",
    "# ax1.set_yticks(np.arange(min(y1), max(y1)+0.001, 0.002))\n",
    "ax1.tick_params(axis='y', labelcolor=color)\n",
    "\n",
    "\n",
    "ax2 = ax1.twinx()  # instantiate a second axes that shares the same x-axis\n",
    "\n",
    "color = 'tab:blue'\n",
    "ax2.set_ylabel('avg final std deviation', color=color)  # we already handled the x-label with ax1\n",
    "ax2.plot(x, y2, color=color)\n",
    "# ax2.set_yticks(np.arange(min(y2), max(y2)+0.05, 0.05))\n",
    "ax2.tick_params(axis='y', labelcolor=color)\n",
    "\n",
    "fig.tight_layout()  # otherwise the right y-label is slightly clipped\n",
    "plt.show()"
   ]
  },
  {
   "cell_type": "code",
   "execution_count": null,
   "metadata": {},
   "outputs": [],
   "source": []
  }
 ],
 "metadata": {
  "kernelspec": {
   "display_name": "Python 3",
   "language": "python",
   "name": "python3"
  },
  "language_info": {
   "codemirror_mode": {
    "name": "ipython",
    "version": 3
   },
   "file_extension": ".py",
   "mimetype": "text/x-python",
   "name": "python",
   "nbconvert_exporter": "python",
   "pygments_lexer": "ipython3",
   "version": "3.7.4"
  }
 },
 "nbformat": 4,
 "nbformat_minor": 2
}
